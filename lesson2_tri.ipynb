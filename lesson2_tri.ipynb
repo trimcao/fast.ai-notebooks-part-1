{
 "cells": [
  {
   "cell_type": "code",
   "execution_count": 1,
   "metadata": {},
   "outputs": [
    {
     "name": "stderr",
     "output_type": "stream",
     "text": [
      "Using Theano backend.\n",
      "Using cuDNN version 5110 on context None\n",
      "Mapped name None to device cuda0: GeForce GTX 1060 6GB (0000:01:00.0)\n"
     ]
    }
   ],
   "source": [
    "from __future__ import division, print_function\n",
    "# Rather than importing everything manually, we'll make things easy\n",
    "#   and load them all in utils.py, and just import them from there.\n",
    "%matplotlib inline\n",
    "from importlib import reload  # Python 3\n",
    "import utils_tri; reload(utils_tri)\n",
    "from utils_tri import *"
   ]
  },
  {
   "cell_type": "code",
   "execution_count": 2,
   "metadata": {
    "collapsed": true
   },
   "outputs": [],
   "source": [
    "import os, json\n",
    "from glob import glob\n",
    "import numpy as np\n",
    "import scipy\n",
    "from sklearn.preprocessing import OneHotEncoder\n",
    "from sklearn.metrics import confusion_matrix\n",
    "np.set_printoptions(precision=4, linewidth=100)\n",
    "from matplotlib import pyplot as plt\n",
    "from utils_tri import plots, get_batches, plot_confusion_matrix, get_data"
   ]
  },
  {
   "cell_type": "code",
   "execution_count": 3,
   "metadata": {
    "collapsed": true
   },
   "outputs": [],
   "source": [
    "from numpy.random import random, permutation\n",
    "from scipy import misc, ndimage\n",
    "from scipy.ndimage.interpolation import zoom\n",
    "\n",
    "import keras\n",
    "from keras import backend as K\n",
    "from keras.utils.data_utils import get_file\n",
    "from keras.models import Sequential\n",
    "from keras.layers import Input\n",
    "from keras.layers.core import Flatten, Dense, Dropout, Lambda\n",
    "from keras.layers.convolutional import Conv2D, MaxPooling2D, ZeroPadding2D\n",
    "from keras.optimizers import SGD, RMSprop\n",
    "from keras.preprocessing import image"
   ]
  },
  {
   "cell_type": "code",
   "execution_count": 3,
   "metadata": {
    "collapsed": true
   },
   "outputs": [],
   "source": [
    "import vgg16_tri; reload(vgg16_tri)\n",
    "from vgg16_tri import Vgg16"
   ]
  },
  {
   "cell_type": "code",
   "execution_count": 4,
   "metadata": {
    "collapsed": true
   },
   "outputs": [],
   "source": [
    "path = 'data/dogscats/'"
   ]
  },
  {
   "cell_type": "markdown",
   "metadata": {},
   "source": [
    "#### Tasks\n",
    "\n",
    "- Load sample dogs and cats data.\n",
    "- Finetune VGG and train the last layer\n",
    "- Run on the full dataset (later)\n",
    "- Practice plotting images\n",
    "- Plot confusion matrix\n"
   ]
  },
  {
   "cell_type": "code",
   "execution_count": 5,
   "metadata": {},
   "outputs": [
    {
     "name": "stdout",
     "output_type": "stream",
     "text": [
      "Found 23000 images belonging to 2 classes.\n",
      "Found 2000 images belonging to 2 classes.\n"
     ]
    }
   ],
   "source": [
    "# load training data\n",
    "# we can either get data or get batches\n",
    "train_batches = get_batches(path+'train')\n",
    "valid_batches = get_batches(path+'valid')"
   ]
  },
  {
   "cell_type": "code",
   "execution_count": 6,
   "metadata": {
    "collapsed": true
   },
   "outputs": [],
   "source": [
    "# load VGG 16 model\n",
    "vgg = Vgg16()"
   ]
  },
  {
   "cell_type": "code",
   "execution_count": 7,
   "metadata": {},
   "outputs": [
    {
     "data": {
      "text/plain": [
       "{'cats': 0, 'dogs': 1}"
      ]
     },
     "execution_count": 7,
     "metadata": {},
     "output_type": "execute_result"
    }
   ],
   "source": [
    "train_batches.class_indices"
   ]
  },
  {
   "cell_type": "code",
   "execution_count": 8,
   "metadata": {
    "collapsed": true
   },
   "outputs": [],
   "source": [
    "vgg.finetune(train_batches)"
   ]
  },
  {
   "cell_type": "code",
   "execution_count": 10,
   "metadata": {},
   "outputs": [
    {
     "name": "stdout",
     "output_type": "stream",
     "text": [
      "Epoch 1/3\n",
      "719/719 [==============================] - 42s - loss: 0.1706 - acc: 0.9701 - val_loss: 0.0655 - val_acc: 0.9881\n",
      "Epoch 2/3\n",
      "719/719 [==============================] - 42s - loss: 0.2056 - acc: 0.9729 - val_loss: 0.3160 - val_acc: 0.9683\n",
      "Epoch 3/3\n",
      "719/719 [==============================] - 42s - loss: 0.1985 - acc: 0.9760 - val_loss: 0.0461 - val_acc: 0.9921\n"
     ]
    }
   ],
   "source": [
    "vgg.fit(train_batches, valid_batches, batch_size=32, nb_epoch=3)"
   ]
  },
  {
   "cell_type": "markdown",
   "metadata": {
    "collapsed": true
   },
   "source": [
    "### Keras features\n",
    "\n",
    "- Save model to file\n",
    "- Create checkpoints for model and only save the best model\n",
    "\n",
    "#### Next tasks\n",
    "- Plot confusion matrix\n",
    "- Improve my first score by retraining all fully connected layers."
   ]
  },
  {
   "cell_type": "code",
   "execution_count": 12,
   "metadata": {},
   "outputs": [
    {
     "name": "stdout",
     "output_type": "stream",
     "text": [
      "Found 12500 images belonging to 1 classes.\n"
     ]
    }
   ],
   "source": [
    "# test set\n",
    "test_batches, preds = vgg.test(path+'test', batch_size=32)"
   ]
  },
  {
   "cell_type": "code",
   "execution_count": 13,
   "metadata": {},
   "outputs": [
    {
     "name": "stdout",
     "output_type": "stream",
     "text": [
      "[[  6.09377508e-08   9.99999881e-01]\n",
      " [  9.46694983e-22   1.00000000e+00]\n",
      " [  1.00000000e+00   2.07615171e-27]\n",
      " ..., \n",
      " [  1.00000000e+00   8.19032228e-33]\n",
      " [  1.00000000e+00   5.78458646e-35]\n",
      " [  1.00000000e+00   5.09689405e-23]]\n"
     ]
    }
   ],
   "source": [
    "print(preds)"
   ]
  },
  {
   "cell_type": "code",
   "execution_count": 14,
   "metadata": {
    "collapsed": true
   },
   "outputs": [],
   "source": [
    "def file2id(filenames):\n",
    "    ids = []\n",
    "    for each in filenames:\n",
    "        name = each[8:]\n",
    "        idx = name.split('.')[0]\n",
    "        ids.append(int(idx))\n",
    "    return np.array(ids, dtype=np.uint32)"
   ]
  },
  {
   "cell_type": "code",
   "execution_count": 16,
   "metadata": {},
   "outputs": [],
   "source": [
    "# get predictions\n",
    "isdog = preds[:,1]\n",
    "isdog = np.clip(isdog, 0.01, 0.99)\n",
    "ids = file2id(test_batches.filenames)\n",
    "subm = np.stack([ids, isdog], axis=1)\n",
    "np.savetxt(path+'submission.csv', subm, fmt='%d,%.3f', header='id,label', comments='')"
   ]
  },
  {
   "cell_type": "code",
   "execution_count": null,
   "metadata": {
    "collapsed": true
   },
   "outputs": [],
   "source": []
  }
 ],
 "metadata": {
  "kernelspec": {
   "display_name": "Python 3",
   "language": "python",
   "name": "python3"
  },
  "language_info": {
   "codemirror_mode": {
    "name": "ipython",
    "version": 3
   },
   "file_extension": ".py",
   "mimetype": "text/x-python",
   "name": "python",
   "nbconvert_exporter": "python",
   "pygments_lexer": "ipython3",
   "version": "3.6.2"
  }
 },
 "nbformat": 4,
 "nbformat_minor": 2
}
