{
 "cells": [
  {
   "cell_type": "markdown",
   "metadata": {
    "toc": "true"
   },
   "source": [
    "# Table of Contents\n",
    " <p>"
   ]
  },
  {
   "cell_type": "code",
   "execution_count": 1,
   "metadata": {
    "collapsed": true
   },
   "outputs": [],
   "source": [
    "from __future__ import division, print_function\n",
    "%matplotlib inline\n",
    "import math,sys,os,numpy as np\n",
    "from numpy.random import random\n",
    "from matplotlib import pyplot as plt, rcParams, animation, rc\n",
    "from ipywidgets import interact, interactive, fixed\n",
    "from ipywidgets.widgets import *\n",
    "rc('animation', html='html5')\n",
    "rcParams['figure.figsize'] = 3, 3\n",
    "%precision 4\n",
    "np.set_printoptions(precision=4, linewidth=100)"
   ]
  },
  {
   "cell_type": "code",
   "execution_count": 2,
   "metadata": {
    "collapsed": true
   },
   "outputs": [],
   "source": [
    "def lin(a,b,x): return a*x+b"
   ]
  },
  {
   "cell_type": "code",
   "execution_count": 3,
   "metadata": {
    "collapsed": true
   },
   "outputs": [],
   "source": [
    "a=3.\n",
    "b=8."
   ]
  },
  {
   "cell_type": "code",
   "execution_count": 4,
   "metadata": {
    "collapsed": true
   },
   "outputs": [],
   "source": [
    "n=30\n",
    "x = random(n)\n",
    "y = lin(a,b,x)"
   ]
  },
  {
   "cell_type": "code",
   "execution_count": 5,
   "metadata": {},
   "outputs": [
    {
     "data": {
      "text/plain": [
       "array([ 0.8485,  0.948 ,  0.9562,  0.4461,  0.6607,  0.2173,  0.8311,  0.9788,  0.0485,  0.6785,\n",
       "        0.9612,  0.3156,  0.4165,  0.3338,  0.2931,  0.0057,  0.7664,  0.9951,  0.6925,  0.6247,\n",
       "        0.5628,  0.0956,  0.3693,  0.2276,  0.0242,  0.5822,  0.7983,  0.6739,  0.2812,  0.1929])"
      ]
     },
     "execution_count": 5,
     "metadata": {},
     "output_type": "execute_result"
    }
   ],
   "source": [
    "x"
   ]
  },
  {
   "cell_type": "code",
   "execution_count": 6,
   "metadata": {},
   "outputs": [
    {
     "data": {
      "text/plain": [
       "array([ 10.5455,  10.8441,  10.8685,   9.3384,   9.9821,   8.6519,  10.4932,  10.9363,   8.1455,\n",
       "        10.0355,  10.8835,   8.9469,   9.2495,   9.0015,   8.8794,   8.017 ,  10.2993,  10.9852,\n",
       "        10.0775,   9.8742,   9.6883,   8.2869,   9.108 ,   8.6829,   8.0726,   9.7466,  10.3949,\n",
       "        10.0218,   8.8435,   8.5788])"
      ]
     },
     "execution_count": 6,
     "metadata": {},
     "output_type": "execute_result"
    }
   ],
   "source": [
    "y"
   ]
  },
  {
   "cell_type": "code",
   "execution_count": 7,
   "metadata": {},
   "outputs": [
    {
     "data": {
      "text/plain": [
       "<matplotlib.collections.PathCollection at 0x7f3efd693710>"
      ]
     },
     "execution_count": 7,
     "metadata": {},
     "output_type": "execute_result"
    },
    {
     "data": {
      "image/png": "[encoded data removed]",
      "text/plain": [
       "<matplotlib.figure.Figure at 0x7f3f186dc780>"
      ]
     },
     "metadata": {},
     "output_type": "display_data"
    }
   ],
   "source": [
    "plt.scatter(x,y)"
   ]
  },
  {
   "cell_type": "code",
   "execution_count": 8,
   "metadata": {
    "collapsed": true
   },
   "outputs": [],
   "source": [
    "def sse(y,y_pred): return ((y-y_pred)**2).sum()\n",
    "def loss(y,a,b,x): return sse(y, lin(a,b,x))\n",
    "def avg_loss(y,a,b,x): return np.sqrt(loss(y,a,b,x)/n)"
   ]
  },
  {
   "cell_type": "code",
   "execution_count": 9,
   "metadata": {},
   "outputs": [
    {
     "data": {
      "text/plain": [
       "9.1941"
      ]
     },
     "execution_count": 9,
     "metadata": {},
     "output_type": "execute_result"
    }
   ],
   "source": [
    "a_guess=-1.\n",
    "b_guess=1.\n",
    "avg_loss(y, a_guess, b_guess, x)"
   ]
  },
  {
   "cell_type": "code",
   "execution_count": 10,
   "metadata": {
    "collapsed": true
   },
   "outputs": [],
   "source": [
    "lr=0.01\n",
    "# d[(y-(a*x+b))**2,b] = 2 (b + a x - y)      = 2 (y_pred - y)\n",
    "# d[(y-(a*x+b))**2,a] = 2 x (b + a x - y)    = x * dy/db"
   ]
  },
  {
   "cell_type": "code",
   "execution_count": 11,
   "metadata": {
    "collapsed": true
   },
   "outputs": [],
   "source": [
    "def upd():\n",
    "    global a_guess, b_guess\n",
    "    y_pred = lin(a_guess, b_guess, x)\n",
    "    dydb = 2 * (y_pred - y)\n",
    "    dyda = x*dydb\n",
    "    a_guess -= lr*dyda.mean()\n",
    "    b_guess -= lr*dydb.mean()"
   ]
  },
  {
   "cell_type": "code",
   "execution_count": 12,
   "metadata": {},
   "outputs": [
    {
     "data": {
      "text/html": [
       "<video width=\"500\" height=\"400\" controls autoplay loop>\n",
       "  <source type=\"video/mp4\" src=\"data:video/mp4;base64,AAAAHGZ0eXBNNFYgAAACAGlzb21pc28yYXZjMQAAAAhmcmVlAABOIm1kYXQAAAKvBgX//6vcRem9\n",
       "5tlIt5Ys2CDZI+7veDI2NCAtIGNvcmUgMTQ4IHIyNjQzIDVjNjU3MDQgLSBILjI2NC9NUEVHLTQg\n",
       "QVZDIGNvZGVjIC0gQ29weWxlZnQgMjAwMy0yMDE1IC0gaHR0cDovL3d3dy52aWRlb2xhbi5vcmcv\n",
       "eDI2NC5odG1sIC0gb3B0aW9uczogY2FiYWM9MSByZWY9MyBkZWJsb2NrPTE6MDowIGFuYWx5c2U9\n",
       "MHgzOjB4MTEzIG1lPWhleCBzdWJtZT03IHBzeT0xIHBzeV9yZD0xLjAwOjAuMDAgbWl4ZWRfcmVm\n",
       "PTEgbWVfcmFuZ2U9MTYgY2hyb21hX21lPTEgdHJlbGxpcz0xIDh4OGRjdD0xIGNxbT0wIGRlYWR6\n",
       "b25lPTIxLDExIGZhc3RfcHNraXA9MSBjaHJvbWFfcXBfb2Zmc2V0PS0yIHRocmVhZHM9MTIgbG9v\n",
       "a2FoZWFkX3RocmVhZHM9MiBzbGljZWRfdGhyZWFkcz0wIG5yPTAgZGVjaW1hdGU9MSBpbnRlcmxh\n",
       "Y2VkPTAgYmx1cmF5X2NvbXBhdD0wIGNvbnN0cmFpbmVkX2ludHJhPTAgYmZyYW1lcz0zIGJfcHly\n",
       "YW1pZD0yIGJfYWRhcHQ9MSBiX2JpYXM9MCBkaXJlY3Q9MSB3ZWlnaHRiPTEgb3Blbl9nb3A9MCB3\n",
       "ZWlnaHRwPTIga2V5aW50PTI1MCBrZXlpbnRfbWluPTEwIHNjZW5lY3V0PTQwIGludHJhX3JlZnJl\n",
       "c2g9MCByY19sb29rYWhlYWQ9NDAgcmM9Y3JmIG1idHJlZT0xIGNyZj0yMy4wIHFjb21wPTAuNjAg\n",
       "cXBtaW49MCBxcG1heD02OSBxcHN0ZXA9NCBpcF9yYXRpbz0xLjQwIGFxPTE6MS4wMACAAAASwGWI\n",
       "hAA///73aJ8Cm1pDeoDklcUl20+B/6tncHyP6QMAAAMAAAMAJAL8x7+hB0M0IAAAUInP4LJXTUFR\n",
       "Bq1ViRE7nmVugr3qHwjjbq4yqtZnH2dD/PRH4qMF3383q0XiC6K7q89B8NNF+yB4lSsc8GA2Q9EM\n",
       "SZo46MPVl5rm6Gw5AAKX+WptM/kZrScnW/4w3cEV5nvz2lpy/Ym2RY9QX4SmOqGm3jVl2oThe7KQ\n",
       "B3+RU03kYQJWVZ2IqSk+ZLJzyVxMUbzFlykwwVbuP/jOZpHTMcdThx+cAEc1PcXCN+I0oNUU2xSm\n",
       "KDQ6Dzm5AsgVGR/T7v5Le287OeKyTdFX+6ABPHEhaSssDHQGruAjaB/XJvvQwyMC0Yl+IwzOZG3D\n",
       "vsvpUttfCJupP5twRV4lFM2IABemnhHlwr6+6oxGsF7TDc32sIKUxt+wizXgfUfPMi/e5qH/Y2gB\n",
       "lc/n8uTTBx9UupGSh0Z7PHTvgdpEPhBEgJUhQ56vka6dLVKRJGLVrnSbGHpTzpTleka5Er0l1VvX\n",
       "wrFYDlbUFsirXl6aYxJmbrD7LXLPaD+Dlv+/R4IftpNqaWddbnRnsf7jw7CqCJj40JnnEwccAT3v\n",
       "GIgQTWfwhsNaGaX4P/TFNkdYq4DQoJCVPSPsDEiCsuep0Jm06z36y6LipdhHsYCi3zr6VboYKZ0o\n",
       "7YrSxkgfwFn1T7HUXEThI81GDiLGwqOqSf6II2Bi3QvHe5S8a9ACAlZOliyLmxa6tHg5zrDI75/b\n",
       "ZR+nJW2tLBu79UeJ+TJJmsLuhOyuXjdvV6Ny7wXVZirIY1AULGL8kyxmFZx8It9LEpLeLsn4yXvw\n",
       "e3xQyfEp4OOAT7vsP2veFxiAxSiaW61fiJNsSInLCxCrsXGNnTQwqEnhL82chDnVfmh7LtPKIxEC\n",
       "WjH+x4f9UbBN5RdKFbmnRS7/GzIkZhdH6ywdOLK57Dbuqx1bbgeTI0gfdXuU9lIU1jGOQZkgcC4K\n",
       "YaOQ4jwZKWf3ef8OsYgl52I4s43/HtkVbiBqNEwPsgnP4DyLPrdxqpNw8NiSrdawvKpa70MTh5fU\n",
       "8HwPKDY6R44u8JnM3feDSXROgjUP6QjULq2NYAdwX/SZTBodRV1aZD6ggArC/6SQSUv2pMscAAAD\n",
       "AJSfX3XuRa3PSGFahAgfU8HKUPGAvZ2nSaIqf6k0PxkOYIcDcxZ5/K6Q2XCtOYnTFJXpbOPqezpU\n",
       "AxktBhj3UMuv8bXTYpHjn5p2M3i6JswSCA+pss6MyzKFtSmGl+S9aQnAxDXwoHtBxqBxVHkJe78c\n",
       "NQKKWbkj0NpCtv29B8ZgCvK7LLCpPQLxMQDNaB1LJUCxWAxVmCjpWFWPPEaurf6un8rdRiPNpJio\n",
       "PZQiguxKuXyXyvPSoAxq+k2YcarbAIZCfjGkACEB5fgDHE6pPqHGnO+K9mk/bVQne+PnjbWt1E+o\n",
       "PlZHXpQJb/W9B20wW1mRdu3t4HSAkPXflWumvGNQUDXpByGI3rL9MSHURuJS+xKhgx9AQcAG976c\n",
       "K3UPagGqlbk322RLG4nhmjO30poo+RFVdbO2o06DL0wKQyzImhOwE6qhEFbKUF57hwLcjkVZoMNO\n",
       "waqbcNFfVNPDE95CXHK+Yx29CfLQabP53o9cBYVCLnVFLlZGkRz7DZk0+jfDfI5lkrFL9mrj8oYB\n",
       "jlUtJZPqMheI8eAtmnXP1N73JX4Ra5rO4LYWivQxe1BTzLeTkB5Ng/vfxgQBievIfVNyMBjISci2\n",
       "S83ZVm5yVGEVxrMgIPvtuwujeRTaxtw/T6k9C3ALd5GfX12tF9ir2p759BxRsvXSH1nOQqCqyoDe\n",
       "aI7beu8OO7RYjPVIn+RWW8O18i7v2ZVdIj/iKSHovDc9pC5Q+puH85D5fbfMedX7D1faFrUynf/r\n",
       "eOYnvllINX/8LgSTBRzC7GS3K/093bzQ8+KCmDddXyRA4HhRiwmz1yU9JwczuFVNjmKPi3o/9UEv\n",
       "vsHbvIFJPGlqaIK7/9BthmE964hdZ7Mvx/ghgptiTfEbaBYCenaIg63OUvRK0+rlnZdOzL1dZ59o\n",
       "3oS2b4luXoFfVwE6kzbBNn4nI5sX4TiRs75FTEkExf1Dw9Beq7tG2I9N/vlRJhoGD8lJbw1kx0Pg\n",
       "gmu4+hQWSterJqWzs1tZ/fUn6mjHqH6VnYvAXP661glcAM+JoxnQybZfhmgLEgA0O8h1dcw/gCtk\n",
       "4m/U1hYjz3j3LXKBxMqdI7176SakXNj7GLFhDfV0j1ZjFKbw6qwPo0HcBBSjTkbxI3p/gsLTVkPi\n",
       "00XcA1BoqwibgMM7ZcCuBp4N04dL1v42WMvlS7iQYwHXkazQvKJcuzvVzUbSdwGU85bFHppv7RKa\n",
       "GRk2qKwe8J2eARsQvNOFPWy16Ym/26f/CTV8WSTi3Xx9I1f3XDgxklYK0A6we7JPC2U+Kx8J7V2W\n",
       "dS+nAWpcEHiqKsOT668YomlFysvTVp8cBhWbaqyAgGtOxDtiwbKn6D2eask1h/VQnbZbT9DaTJ/B\n",
       "bsR9QLtMAtVvqCotGxaUK/tyKq35Jfwy+7KYO0fUETWgfSQ1Kso8kmrHbP75Q7dBJn8m83/mIt3i\n",
       "Ofkktb3mObOV3Si31TU2+ie4MdnhQHVcIaUlQFixgAWAdBLX3uzw/vZtfko4KJ0yNZAh/Bw9o77r\n",
       "oN44Y6R7gYhQYyu5lsSsbQI8Fr3cS6gI9gL2hQNOv/3rBz5NyaKDzvy7CHSQoabNg2yVhPrzDBnz\n",
       "+wGY9gxwxObsetX1WMFpo0EcUSO+mPJnEoNL5Rb+/ocvk0I0O5KfL9FdimERiAjJo3hpcM9k+L+l\n",
       "ZJUuH0fAAqILeo1BhNL6nxKy7a2BCMRHQjXSa7eiWXTQOxBP/cH0FAAzaamw3D38qVQ2zhhSN2KX\n",
       "jRaOjDJGQmIHhHvePjDPcSrbi3+QoD3gPboTWPupYEguiMWCJvXDY+Gpr0u/kS67aC+53xFxxrKp\n",
       "nar1wIqsFujE+JrM2gCJoLME9jtxgtiAcyb/nN9GkB5KJk3l/6fH+CZB9/tReWGkxHg8eQiA3n18\n",
       "jr4IizRXs1BFDAckj5N98QwORtMeA5bkpaWtz9wdDUDNm9yGm2qzyiGxCmRYjjsMm5FhM6Ylshpx\n",
       "9xF+2UZsUwaK1eBAED4ubtP0UXlasP24ew0hxZcuxAkln2TfP0R7BO/F+OPkjQ0/9+I4Mb3UZigR\n",
       "5t9IdZC3OMAzXNgXmXY1C91epdncc8jtj1qtXR4jVAZpcGfl905avxmyiXHshI1TI1d00s45s9rH\n",
       "jCMUb/DUQub3gIcQZ1+gEejucMclsvaZQFs9RGUqOOq7qFpJ6DxceHeF5/mjGJ9gLmqr5VHyv1ns\n",
       "0wRQmVFPP6A6y07vDdvkI/bpooLtXqtoV9oo0tR0CNfPRG0EFlrMQKfe7O7JqsAitXfRzm7hOK3T\n",
       "WnKFYxROh94J4CVEbWu6BdU/Ksv2hGEfqwXWa4vZIQCiyno8dq0PFxaBf8pqv6cKk8SYvuchUh1f\n",
       "/6SZqv5eaI5Wi8FHfEuBxaV0Hwcz9v2hLfT/rHymseqa42c3yLHXkDsibzRpx6oDW8inxOvXe6WO\n",
       "iin0Vjoxya6cGkdJd+CM9OTSGjdJoh0fTOcRfT1yGP/+1kUKh7gPL0ReMACkB21z0ptFGuZs4Xu+\n",
       "0D7ivaWK4epLHOIIvX2+5QaFBWfhUBEN/vqcFyvtHU0cpFdBTWWao+/t6ZPU1z2VrGsj/L6VzJWO\n",
       "OOte+4Xq+weevze46/adF444FXeMtZ0wieHkvrYPEeFToLvPFn4OdPgOB7Fwla5S9/mIAX4OLZVk\n",
       "Uatm9IbQQBq63TjHhMsNHIEMaCx+IXpStWJ8IXV4hpB8Pc6w1iMM5NeCmBsmDRjstvwAr4B0XKen\n",
       "bz/nzs93Gz8JpyaWEI0FrxIAn8VCM86qZEW4+E704sbPwZESE8N788Pa5VCFMPg9jCl90xjNmgJm\n",
       "hqlr050pXL0wiv2Gvos7b+5dHJ7LPuDJXz+Ure8YN4/j+mrOwycvPxgnzCvg/bJDMeieviW5rp+W\n",
       "06Ou2N4C/2t7z/6enyP6rOt53+ikA5Qrvwa4cdr5E87Wu7KlD5XnGpnjrlyPKt1+gBT0kkEELZml\n",
       "JsMcdIZk+mnz24p/4+ka7nfGf6JEhRPe+DHRU9PQrbdeE4y0Htxw+XN3zD0BFi7QOAENpDCD9rmH\n",
       "vwEKpgISouzibmvSEoKm+QQ6mkxb6Nj0+Xno17tPaC2lbu6tV6+h8SZI8CRSudSsqS3yTG6DgmD/\n",
       "nMzrB/134E6UdWpyZLxuASINDRNXH4PGBUyLpol+ixFicYH7mB1Iz2tZX/005YJrORtG/oBYcl3B\n",
       "sJmbo/xqkt00rSCiNFDDcy8o/eJSOK/SwQY1g/lgcR3lO/mcklFNw0YUO6eKICrA/lDsC1bxAg2l\n",
       "5+FGYGSe68DdZSgBx0ESXwCASouRmdR95UelaK9drxJcTu6rWbl/ZXSBsynQ8l7/Muh3uoPTqqeL\n",
       "c2m/xiJDdWUXwygGtm6K9f6Bvu9tQbqnfLDYbWirlwxyxjUi7sIx7m51xfT4gfL8S1dw/wa5w5wV\n",
       "nhU6rVXS1rVNK6PjVslXU6i7S8fSRWXCRL8ddXxVHnVxzLHg2yHh/ega4tn6Ps5nLtTcMQbu/1Sq\n",
       "DGtKRIJfWz0mpuPmDMaYkcIiYcM/8W8crwSal+6mClmzUrvN0R2V8umQOpWA/SY9zCqT/B0JxDCL\n",
       "xhs2ecTyRpTRzAbr3PYazzU5JCKlCfnzG53nSmrDSLzhd4Haz9YqLRXRUpnoruQYAGLo91/pdaTm\n",
       "HZmWGYV10W75FM2gd+0GDWEmMfp3LKDocPonoYu30oB32+E1H+/No6JNxvrn0AiiJoMTMnHm6sSJ\n",
       "Sic/ZG0PtNPwwHflzdqmrz7K8PYnm3/No41kexQtq1uVXnykOKytuF5EFFBGLxFgpMtPUj0+qVuW\n",
       "ZxGgNwVjT/Wr6mw/XUbs8Cw6+TeCuM/PdfeRlGIZYQjo2z/SdNl3UdQwaGSVMJf8lAbdWES4pIP7\n",
       "hcBaYiutYZ83MrQa0qtvj/QNdX2wu3rPTkZkB0OIKL3+stl83tVD2J+zM65AcVTcxPe8b3YHb70i\n",
       "zjcblVQLy53RG3URzJHqxfg6q+6MMMiSn7v4bxU6Z/7hHXj8+n/2En/KXi3a8Ln6+byFEf/4LSPC\n",
       "MJm4FjAEEHUagkRwuThJso6LJgK08qBfy0wbn5++/XnxlZoLSOLBN+4us2xIW89gV97sb+wmyCi/\n",
       "LT3RipANBs65dvFs51EJ+bPd7fS3bkD0EqFrmC3LoIBYgdLdIIj2CGKTBUFrZ9XxcVdRchPQjRJr\n",
       "NF9a5NPh7kdg3Bor+3uMmgGD/N9ucjPSu5QucHb3g2u4XqKYs71NTfVH/Az/WlZEmTvab/XMriq9\n",
       "7qJFu6rKtudSvkTbWS7A9i6SWX7aw2lyyYpjV9dcLbfGlXy3Gu+xi8LaKwdTwLF0i4OJuMkqifWj\n",
       "fLF2z9m01PXZbxXmNGnqdVal+UGG7dRHiUGcaDXl2dSC7k4LMRkHrvI3HCNZEKyCgzkUWTUNkrr1\n",
       "QIlDP9z+yVO8/I5MdqfYAJCc9QvSX/gEycdFhl40JpEgTI4g+En4vcWPADzGqyKwLRRjmlUEzxWw\n",
       "BrIuiHWzFnS7X45LVfVRxUirjq1nkGkmR//wnJnEKRikC5xvriZ97mYOQ8iq7xYlbF9A/l1G91nX\n",
       "+dFz0YUyDti7ZGXy2bjgGW0EzhpVX07qltVmRVoIuGVIsM2Bo7hv+NknFjl44HHNS0SxOVKyWgyi\n",
       "RaAnw3tv6KTD2A14nx/5PyxJHy09WIYsFebd0gK5l6QOUe66C1N4A22tJU5VlXsUgoJrhe5s45YR\n",
       "fB1NzGVMdyOuQin++8F7mvXs7Tk10ssrCFQIrpzFVJ8WpGrajPS3PQrANBOO5hiqrMcOCDmw3Q1e\n",
       "hPcsGL/kwe12RWk/awKnH2vyFjg1Crl/iGsr/tkynXameNj4fZ+MrU5ZEUXioVEQ2zlNvhm04j8I\n",
       "qsv0VgZP6jdGTdzwNaiqGMq1Hlzu2z4pSCxS/wMX6HwgdlYwlchFuFYFrnh4t9uUu5Wc1jZaYX/+\n",
       "rOv83tGglhLjCVxPnxinVtkcmAfHPhaQ6wFmOywSF4PPDqauIl0sb9/DIwQvoQcs3wp+Da9E3sgg\n",
       "Zfhf8SJmAxeB+DdLdFozyBrqfdXazEYaqrHnDLSr2ieGhJLtKEP5ClAJUJj8G68xSsZ365BcdhLq\n",
       "pIPEC8kAdFILIh5dtUfMdjqaWSoX+O1lD9ntVf1I1RAtf533gDpcyMHI8YlFs8aoAJOi37BeT0e7\n",
       "v5HYHmknx/KgOgrVfG/+VjtWzEY7KA7sb05hG6YKRsLSZiruwZqqb/jaX3VcEEhlHD0Ym6d9U9P8\n",
       "x8UkfwFLkAA04QAAAlNBmiFsQ//+qZYAKmJl6ANrYJhtyEePz/c/PPPYk6VCfL6wxly5r095w+RO\n",
       "AUu/zL1AnzPYrSAcRiquQCfN/5PXP4CTjeUzfvNq4g/gPMD0pcpLacJi85j2tYIgTWTgtUDpE3+A\n",
       "IWpP6EA293hlVk+P/lPPNS3TBvUEEqRTUlqfcxxZ8ZN7QQidxtkoR2YftRFw0g4tAybiIjATHDdx\n",
       "9fqaopBUo6cQYzRW5XmrAwx91jgTJPB2qdCv93SdZU5Plu0agShSRsDrmMxF7a+Q5wqtwGc76uAK\n",
       "OEXIuroY5SYgVbSb97DHfv7aqfppsNGbU4bSM2ceCJZ3Sxtrjbuk4QqLw17VWb6zlS7dTqdZxLPy\n",
       "D2nIeMxr1nDX94mf+YPJ+i0B4GBsmsDKXlbY5fOERqg/ESXz/21/g6l0SLsQq7D+5Ut4M1PxAdF5\n",
       "HtQvFnQMzAj+tsP8dnZ/fS3qHieOXFsBbYCDmdHUkvZ22pmtSKqb/L7LYC8yogEyECR0H1tD2lzc\n",
       "KNF3gbHK4jzdEZejpBrxszs3MssdH9x2SKABDf/byFnahJrEtHGc8BWVpPNrh9qx9++9xHNIU8+s\n",
       "ADNItFSGcg59nUywL4GD163rR7hhnnBBo4pMA1ZQOArAfw4kMLKEJkDFUuAVu300BJ59YLtkKggG\n",
       "TS3b73QqcldesbgxA6iTimMK41N3eS2Ieq7Xb5HtxaI4YIEaSf+8+r+nhlFzgiMxsTdPHxAAAAMA\n",
       "FyAAAAyTVAX/iM1yarFBKQYk8IbDUHV6YO4UFffuN0zbsRaWkAqDAAADSkGaQjwhkymEO//+qZYA\n",
       "AUDpg0AnD1uqNG/KYsa6G98fgwvIW+4HVmw8nbyYXk0r9IkEv9nHrGo33sUzqDHJjgO75SEA0fcw\n",
       "5qpkEUU6vBEDaD5ZQI5eBxlNa+fKq8H5WTx/8dPTaQiHe+fSPMOnNmzBIfANLNy87TFz9NteCg4r\n",
       "fyQEs1DPtgIvyQ+6kf1vY6dcHS8zqn4ID4nE54geZlOV7GiI5IbgxOfvmtEaBttpWjEECaP66Pmu\n",
       "sc+yE2FWKnO2iK6CZFF1mBde5sKDI+wRwpP7+ax+zSr4/Rw+sVm6Z2YfzOAivLJC/HdMt4YOQxh4\n",
       "euhaAkutk4RPyKRdAMI+oKrFxdw+xe/lRh8V138qZ1vqCzQ8r5KhNiyw/WMbKScmqd2PDMQgiTIA\n",
       "/9Pw/1zhEZ1OQFzTxMx7ykOYQtzPF32Iqw4/mMWW4yww4jjAHB9P8Nho+yxVREuo4G4IMEB59p3K\n",
       "UZyuOEkkPzqflj+R69BTQ+ciQtcKMWSto5bSNh633sNRMKzvSrdsJow0mWVKpLtjSHjgntpT7af7\n",
       "9AQndsRaEwUNW9x+lIndAdD4MMmbAIUVKoojmzSqZqZ7fkcu5Tz8MvY21S+EJ3TaDfDDvZwaG7iN\n",
       "CYxS9iWAAAsf/QSQLFO94J0u8aZKPXpPXhf9Js3JjYoecKsk80W8aMj9XxVcz/W6pBrtwLAwa/TR\n",
       "tznadDyCYsH5TdwYQas78pKlw3Ex0/LoXedsLtjUlXbShj3HeNO1CNFg+NXNeVF8mtl/KUpKP1XL\n",
       "74hQDq3rcYm145klkqggxs6zht+fLtQtGhnvrj7VOxTG+FwxtDjZ+D+ismbBDQIN1rs386zH+53L\n",
       "u6Y8mHNVoaYoaKKq8EKOQjHqb8hzzlv2QJXccu5BtroiikV9SQ8r6W+798rupCOQBX9N0S6HluI4\n",
       "u6RRCQev8B9j5FINwPbsDVQWvu2KI5f8zdS2ghIQU6UNxZmt6KfaHOHlS7hCA4lnh1AEZR1eGTOL\n",
       "fJ1VO5DYDE3XIvDSIpny4i/9cPHPybY7ArdPiPyB6JCOgSOzJu9z64dSMlV3OuzHidpPHCEEcban\n",
       "3SWxl5WyVlr+x0xwQegVjWE3AAE8CgDi6iGuAA+ZAAAEEUGaY0nhDyZTAhv//qeEAACf7++cducs\n",
       "ACWLof23xvFKuI7NN8O2svJQA4kL1JInyd/9yKRh3KFauYi5jCeMu0KMM3hOlYemi4Dupn5TPJ9U\n",
       "YFaHKakVNbNELFuHyCxYHFTVhMyqYItjueENZc4lMXs8nxQqFUwiYHVYj8+0I7uvaomtl9HGiXA2\n",
       "qTSL1zB8O6lWK/nvpZ4BNfGeNNr5G7WLgKnEcAhs667vOej0U1F9P/Jk54prctCNaKTQ4O75aQNe\n",
       "fH+GqAjcZf4BU8wjnzgAdKhVmvpCSbS+L7rpZ9NJyF7GIB2KeefxMtltI1xOzDRtLVmjx4oeQBie\n",
       "fsjMjdKsRatMDwDYR5rrDxZG6Rt7GmlxeMq0IffA4FwJ/S5+OvQI5UeEpkrrX6YTcCkZW7vrDS/x\n",
       "j3PHHiDzeUXn+svhVhRQ2eVqmx0cw/o++7XPcJ00HRIypuEr1ieLDoGuEOknImO0SCMtxW8wisOd\n",
       "Pb3rk5YlwnA2je/x+cSc3+HVRVm0LJtSmghmTq6tbg72LNqbCA8Y7Q9XirVHSKiLYLlHpRjTRelb\n",
       "Y3UMT0ZiTKvcWuQtvdhdBSjHcN7fL9Jq8HbUWEIpnpUOrF9otKXf8EqLf9RiZns0AGTBQjlMi6GL\n",
       "lQD0rMgCBUlhUe5j2ZJ+ZjQX06g2DZnV/DkiY5e517xLINsx6tUw45hyiYYh/X4Up0lqLpHuDk+L\n",
       "0oMkCa4MTK3YyeauJwkw6ihKWRej2ouHVP6GgrfRymOizptvF26CQUuagFLgIS4YqhlIQetRBAyA\n",
       "Yor2J7iIAWO4rqOqyiXZdTxMw5NzezBWi0vitFcdcyzHPRJV4eWT8p9Xxo/luI2e3IaBfXqTJIVZ\n",
       "Dv5w63OpjV9W5f3+yIKpLwp3pLxlunU3ydRIVJTksL4/Z51alsuwHYBvVuGKUosC+FGTHAe5KiG1\n",
       "rMP5X+dhO0rKO1HAOyHCA733A2EfH66coDHABiwJ95AMWbpllwGH2SiMKnE/hmCua/RRT5tP+XH+\n",
       "r9v233tW85MyQd0fT/ws0rLVWTS4tURd1m7qgmcJOPt/kD5JNsRxTgGqKrBmzFhcWf6+1552RUvn\n",
       "Kvbri5wRTpt82ic6b7YcDf9/yhhz70EgQqQ6dRl56bVUZoxip21pNUf3THbExfaUQZOoD8ajTPp+\n",
       "abVY/+a0SW5W4DpsD5YwwqU0EyeX+nPuq96ikgZg9JrhCd2mjq9iMR8iIqhKHLkfJLm9fLktTfI7\n",
       "iDIBPr4cgu+hMGqpgmA0wlYgBH+GDm06VnFRlNBuCQo4JwljtU2BvNvnK3Fylr3sDBwsrLCSSm1M\n",
       "mJuQ6MEAftrcwyOu7ojkf4QAQehN3+jy0SBc+1TL8v3xr7xCXFqoOAAAAwABlJhCTgAAAeNBmoRJ\n",
       "4Q8mUwIIf/6qVQAAMttL+EcwIACH7S4foPsdNjEalK7LuO1c6NTMnsZNXwPoPSD7Vo9U0lQf7bnn\n",
       "+GIh/2BvZtyqcS36cbdmZ74UWJbCmm38/9aS+BWuoxfRKCfPNY7Bz27z6rJ9x4DUkzzIebFiBCN9\n",
       "DihQfvsUJqqYyYCj0vIe8VGaeA0CiJaWjYjINaXfiQe9q/knng+mVHl6VB7NJLGSBhb2nEuvtkft\n",
       "8Dl5YNKLbHsUUjki0wf18BwBfvo+kpH/JJDDEHaTi3iEy+70RAnJ7eKPOROPab0FW0ZCFcI0pZnV\n",
       "9GLsG7YagczbMWFjxAiVGDn0/DLTOWSyolLqT6x+DTKtc3CYY9l9DX0CuF4To8C/HyvFNkjQUgbH\n",
       "fCs+7qBTDquHHN2shJpRsGiwXjwFawWdtKi9WDxKmhZQyOsRSlLW+kh+AsZzQaCml9LZ31rNjyI2\n",
       "0vrjCl4YfA1YAXwSxzOfoDumVtQJdyvTG70q6GbjdRgu1q1uneBl9t0fyRWxZCnVbPmr3PO0d+TP\n",
       "86m4IKaCMbajjjl2tNwMHNnujriir7TdLXHO7UZucCvWsFcpF47OavX09gXmIONByHH6D5tE74k6\n",
       "f2lR4VT5GBGyHNxomYcRl4gABoYqgh8AAAJVQZqlSeEPJlMCCH/+qlUAAHSPBQN6P7Eykd7icfOf\n",
       "wjoVgD8UfJVcojYHrqKACgIEdpdHVuYHvQ8ChC4CPqkMzIGnl7C8kGlhcJRJtl4QCcpot6KW9Lty\n",
       "FaT3wcPjNHoBNU9wbNYphT043G6tunI+BWpPIvvnuoTyil9s4Go09c/OfnHh6iNvmA/ZHbLo21Y9\n",
       "whVdS6R/tj44Z12rGZMJY/ZhSo6GGsY0D8Cq/3xdXqJjW2NIFB3tgV+n7g6UweOxQptZDgL0KI0Q\n",
       "QC2GAw2eosPSedWWjCwtnGRQo1TC8trfpU0z87JSfbuEY2KcfG2rxtlsrmsnwts7RrVfnXeusWMV\n",
       "wWLPdmZ6fG/19vQCheXBow95GpkabYY142d/GI2hdBXquHBZluH0ykD7mHqS2DdHgEfcgTkLZmU2\n",
       "WIGamdp0LN/sDcT/YSYr2q1WLV3nBtOQEZJiQePCAiXsojE7WSrWR2nwIlCsy7dGW5BAcSThT+OT\n",
       "SGR2hNcvxhp8O/a8IUoa93+drhC65Jt3bpwKllqmYKQWtyNbvnXVpp02zC9lRtgI4uXTdQtnAwm4\n",
       "EXQqRGZARLpSsF1L6Akk/bCBsNhBdXu2lICJWWe95MvC7RNZtWVCEq4pj425so8vtTlsbxZKQ92y\n",
       "s3qWtzmpQCMmn2CikLbn3FKoIGN6ks4mow8wefueNnUAibI/hB/82s+aFpJVCXfnp6nz8YuTPVCq\n",
       "LvOj3X8vC9l9bPUGLuT47go+KHcKU6Jf0EHWOi3EXAIPG1z2wYP7INqFjIC3VufeTqA5ZIQNAAAC\n",
       "f0GaxknhDyZTAgh//qpVAAEYSXmW5Dk/9OLtYZ1kZACTFpdyomLYF+yirPC3UUFGeYo3UAKMI9r2\n",
       "JeK+495orgSgiL/10d/FNaXVQ/sb9wgxxIcDg+wnd7vHwb1x8yIRjlGIkRUOFk1h+6zgAflmCER0\n",
       "flrCCmbFxq/xeid14i7XyhvQCBul1CPqXGpFFGnnRu5VpATICDfocApJA8kk4uI6ROY/awHLiWvY\n",
       "7V613Tvb1HZ5UmGFlBFh95h3r9/BxiDjESH/uJMd7UNIaWUO0lOipWQKN5he4nxM7i1fYuyPPYVx\n",
       "5YmofbgcWzNFRHfXvAxaTpO58qr5RN9lCSULH7JqJybqqKTwoNCPp/o7HHJScK2T85FRN5OZ9U7/\n",
       "e828Pa6GlDXJy9epJRNzNeZL2/JOiKO8o/uB+UnNuzwPCXK0GOcVSS4NO+++xtVkVt3Om8MRvWwT\n",
       "Cbyzw+xx20cCSqoqn8qfPlbNIX2XXuhBg5k5EK6LrDLivYBSqEnRMdqRSWgoAXiewghFiw9VSsQZ\n",
       "VU4/Am433/oOQsh6wz40O2H8AopEk2dDeDBkfszvRYK0cjOhYtUvS8Xen+UBTvzqV8JNoJ0yQ7F9\n",
       "49OpCYyGfmriux3DD08KLz/51vk7OXrv5cap2j20yV8DwEPs+UB73vySG2332N6FFDDcTciHJ2zY\n",
       "z8C0gEjs/G910gEoxAEJ7Qm9d4Dsq+bSWTfCUnm2A7VlJPdGDfqlLd5gaFuKs6wz6bh5WgcEO6zL\n",
       "mNnfYdiI8DiHY5Uq9oq47O5kLxeRSEC704XCfWrjrUGOf11s5Fq3EsPxTdtLu+XZ4uBYFk8N+LEN\n",
       "Ywkc/BZUOWL8exlhvQAAAgVBmudJ4Q8mUwII//61KoABIHYsdLUNOsj+6tyL0SfVcyiMD8+UmWEN\n",
       "92ixXPaY9H8PlIAACQ26AEIRkanfvZM8J09ueM91BOPUw4CVNDFqkJeHdev5y6h8tXevY8ccLQ1y\n",
       "p3PW3/YNSrDJEK2eR/ncHeU0A03HBdyaG6k0p5G2kOQe4MBIiSkWuxxPHSmzJrbl28cCgNO7HME+\n",
       "OE+YJRdcQHpazNU+hPU1TD63Ym43/Y8BFRNjIDwYNHr/wv3EoQudYNTBi7tdP7hlWzr5ItEFnCBc\n",
       "JmQ8VibAKWZC6L8RmMWoFZN92TFrfaH3xXsyz+3a98UVim026+ua4Q46MGag15Q5ISb7c6bbTfPt\n",
       "kY/poTbjx+it+6g+ELW7p0m5LJRoj1FasimKqZZdfOwhJ4x5kMNzKzrfeYWcTA2+qrVNIX99FaMy\n",
       "0IXmgIx13kX455gP1uc+laKwMt8JIAlNn5//t8FzV3s7qB23/X/e7Wf+Uqvki+C11LN/MLCkZLvS\n",
       "JnnfQW6IM9ZaQldQtQOgwNgQeQ5xNRxulFOJh4zFspSpZT4om02qxir6AqSlt1+pzP6PvjantLOP\n",
       "+TWnJnbBZU+FsSnc5vEabeTkRCU6fp2DHKVVG5U1K/24+0MWrm9mme46YKVrRaWo/x8Ja0Fjxs4V\n",
       "D7LlsYJh5fGcyV+Amd1XDS/6JYjZAAAFP0GbC0nhDyZTAgj//rUqgAKCT9IAIxSWLirqXuaWG3yU\n",
       "ycoeR1IJv+uD7hyg2h9tbwA15SirGgiBqfdeE9u+oTTjg8rDyGxUQfGE5a/JkxWUUR4ZEtBwbr5+\n",
       "eqg6/o02696NNqi6cnRiGJSvSqoEp25QhjShs9mlteuTvWbsRdFkUCMLFyHWXZMcn1XNyq8DR4MP\n",
       "mAHybMnuRvx/OR/ekuS6QLt83UIEbBX4dbi+5a5CtqOlnuPiG8Jr2zpgtqA5P8x+s0C5g13Z7NVg\n",
       "q3/zv1BQlNKcehLRMMx2Ebglz9+Vf+D86ryVJs89tkeHVtGsqT+qG0SfWeCVlxvRIhyofWTRVcda\n",
       "xcSPRFk9htbWVIPBs1yUptw8rL9gnVn/nlNPKFN23q4OnwecJ+/BNejhe1zX+1qdOYFQg6vqNq8n\n",
       "/Y7Mlsb0wHQOhcUWoG0NN2pBFImbFcW7Lpo/q7pU9gwUK0Pl8odGWYlB/jNaoRKaw3twKNhhKwtk\n",
       "1FGXNkoleM92CV15FFj8mwBPtOg3Aqtajpl/7BX/lSGEwnw9Oe5/Szd4WdjUiHfu+PoDJR5TSMqZ\n",
       "gkJX47o0/FaPI0H5fpRlVxKVHllvrwCxgwky/lG3o9RRhPUOWHYqDjNFtaFqHliA/JsXsRoXPpih\n",
       "iLmYDI1eLy0NsfLp07L3VFVJmgwT2GUsHQtMbzWD7+TyRx8fOqQWwZF5L5nAl7xI9ImSK3JJPXjY\n",
       "4ioKbNQFIE6tueZNP7sOYOCOkwDNjAlRaDQQBjWIRppLndluuGcrR7fqBHb6+CT6Q0p+ImXyL6pI\n",
       "v/hjuXXl6xtFYtaYPHQMhZGEDfm0Ihf/2du8UpL46tSu6G+wKEGaR1c8gEryW1V20XSHWvM988MI\n",
       "hWJIweorEivcBcF/rQBJAALRVftrE0AJFvPmaJ4ol0wxd7t75JqUD7mSlIiWXReWCQkBmFiEfGr4\n",
       "vIlwf0Kilo0ihNLq3eZHIC2z6lg0vbgnUdVil5s3X6tnXEpirkZLq6XU+5eycF4r7SpR9wKCe6HJ\n",
       "ephFoKo4mp5AUQi+EkufjzAgIPjEDNExCdqQtwS00gfCIxUKZs81slUWhtym+Zh3aozPE1s5jCJY\n",
       "b4b/AGHvlAmF64IDHJ7WF9rldf8E9wNcv4AOLuuC7G9hhr+Kcu4j5LXKTqBGg7T3cjkXYs+DKTYk\n",
       "+FGlYJca8cPPOTJyNx2A1Npev/DT8/kLkU0r5BCcOmuAAEjnvAZZu6dgeigJL92XgD3vuFVXkU44\n",
       "i3Cb39z4POZWSqoAbkt2oTWoExVLy1WuTM1hPgC4RFwJqm6NdoOaiVQZRYyByuuI7OwESEX5e2kr\n",
       "rFtqy6f12znEvGKuxKDsRfKE3wkgVfMIVmm16XADT92qY2eJbqVDrjslA50GAxytxFicOc91ztBY\n",
       "+U2/FxOZAPiJsfhmiU3zdS4urRwmiWNX8AFeSThoLoQXMWrxZmjl3nWmIvAv/zwZ5k6q3Vm7bDW2\n",
       "s7HExHVm0mSRD/HU4auJchLDdP9QUBdhCMj3QCckVPanPbNcdPIVPEVTp92BYSXV1bP+a9YQROi+\n",
       "l/cQWUXI5EE9g7fckZFseztkoEji2zTVRybOcu1oleD3DkemvueQzSYGr7NkhyovwPZvDKiQO3EG\n",
       "h4jfurV4G2PoSEl+zh9JcWoEX3JdYNI+2LtcDQ7ZkcBIk1Zj2eDEsejzXtDlAY0ojNJl+vLYrN3h\n",
       "R17VFK4DP0d1lKu1LNoTlP6IhD0vRXkYjSetJYF/lj+yYQCY86VDDM9xPYb2Bk7qMA7pAADBOWF7\n",
       "AAABn0GfKUURPDv/ABDYAMXs8qmn1N44jbH3tv/12AMwuSdhMDGs885neBYIv2xevllepdDe0mv8\n",
       "WvnbXAk+OsMOHdLbi7FHrR+5YpFZneGvlgerY8P5voxUzsgohwqJTCR39J1iqTIJSDXYEL7qvc1U\n",
       "mHwjDZJcvAKUTIFFokb91QrJWWvOAcN1AtqiN++GE3b2YR2XHsxKFU6U8/O92PALB/fcSnN8ds//\n",
       "c/86eqkRNU8NXWj81AY7fCOj/8IODV1218Yk0+Q3MrlWHP6gRLE6crsdWaKBMWANepVkEYAGm3rI\n",
       "h6A7zFNM6MOzti9IoSIhxqSSKMfGhOUzFpa8xzPsNDTFam/EkRVZUVDRL5HQHBrAxNb6NIg1czD5\n",
       "bNcAqFx6ENMGyx4R2KvfMaiHxS6ztp05y4L+sEM41QIJa+y4FqkDihLC/4RM/wnt23B+XPwFed+K\n",
       "ODdoPiqtjc4p6jTvM/ffl/Uz1FyO1FUh3+bTvzTMsb9p6l/T8KxCAmfrWlZjOvwp4w8sD3X+2xky\n",
       "R3OmU4DC49tch8FmJsH9v/pcJgQAAAC1AZ9IdEN/ABh+sEaIJCtTaPhWtrDZiAYjcTEyNzhDeOBI\n",
       "2UnZACdj8XlUwUysIKu/YuOkVHI1Vw86v/pX2e70uoWZpSsk81YkIeljKBwCRPtPmKn968HIWdqn\n",
       "OUqwdw0834J7c2ZasMr7hO6tpAbsZx9ZjpFFw6oV8BGvm8pfYFNeLF1IAKb1BjPApncABLCJ8HoQ\n",
       "uuRRl6sXAY45mRh8MVvJUM8zjwD5xslGaQVv4Z9V+cwFlQAAARgBn0pqQ38AGILs7Fn1AWkNqqTi\n",
       "08LnIWDSYAQpTdSxNkRjP/1tJKOjRvjz45Zpzn8koWOTCOF4vmB3422yVuoReWUH55fd9uJwkR0p\n",
       "GDSuXlTekIzFW/DHOY7QRjbbmsGDu8rye2q9HCBfguyc2n13P+O7svgPZnIVGKTz7MvVxbA82rqJ\n",
       "3aYAVQ/EH3K/PzM41UzFKzftr4iD4jfOkiwKa774x+q2WM8HWl9NNP/uT7Gydkoap7AIEM6gWYax\n",
       "oe+gjRmE9dRK8B7ZFQlTLhQ8Kl/mP8q0YxhedROSC+j+lH8TN8gkdKXT/v7w6PxkSnI76vy/pq2Z\n",
       "HJo6j2JinuUGj1XZ6JFw9b+av9skZSxyCpVQIj50yA9oAAAD3UGbT0moQWiZTAgj//61KoACpk/S\n",
       "ABO3zjCLwrVki384cV/uuYFGwXRq+dXqP8N/08y2yVzbW5SWwOgoSKF73hGGni/RAxw5i7ktEwR7\n",
       "mI4t3Mi++s3Vp/i1GJF99BoDeRSuUK+cipNyFw967w9xve9o8uTmZbaFWY8gNb9NPmwpQSC2kzz4\n",
       "MameD9NpUcqhi7vdmgmfpb6tDaALgt5yz6he9GF+DysOiDdtu8MIgsjw53VY+rE//j2L0ACwvT8V\n",
       "3xjIiuRyiAQFLmlD/ImLGd5dVDIUpr7mjHKAPgexk7NZbEfJQ7Evod7cdKtRk11V8CiCBHnhmnts\n",
       "gw/O7cbQLorK27utuKmnBgy+4wtymM0b3v29GboJmwmThidIv+u5c5ePqYXSMhemUWfzh4ul5gqH\n",
       "R3WO5BKHz4RmUfx+iTs8YZuF7U1cZgdCVf1UmUYXyp/Wwfj5adQgg6zC+84ic+GTp4KgvZV7Yqao\n",
       "DwSEX7yB3e+uT3phlB8Tb4CXLxUDRHyXNsxKwx2CkdD1nBOtGNRHfy4BSu2GwXhkPqCi/gx5uyDW\n",
       "+7na9thIXldXEwPB7iDMcyYE+wh2dgn+jIQD9Af5FkA2y5t6EZi10Wo6bqC8URjCmO+St+pMOdKn\n",
       "HeZR08WQfr/j2iYDdG4QoOn1U/ndbmAohH+hYcSKZXi/uaRrH4l+yhucgJ72u81qfI2nzvumc/Qc\n",
       "Zco/gYNYn9i3k7aDvh/RmYP+2IUAS9jvHcokcZXjcVDQH8Y+OlurCpEtoxvUdgks65BAKerVNNTA\n",
       "kgdUqvI/lsW5+4ouieuDrHhVpbM/pg7h92ZVzPyOsd4tSBPw7RKNUPJ9MCRA/oZJUYciG14uAMJ5\n",
       "uCg90axq3nLDXQArLZoea9+70xatUqaj7cjQjFkd8XaHkVNuxVEKzxKX1NnStPoR15/9PGwsLKrD\n",
       "w04V6IWxeh0XwbkkgSla5/K8OEguM4FJiHH4sH3FitqFtwyktOnRV5e6iaSsPFRVEQE5cReTOyxL\n",
       "So3inCauV/pK62eAI7hiVRftSVxAw+plGxzJN6JTgZtgNiu75xry71RviBHkbZ7X5GTwmwMviwxp\n",
       "bAeyxMCIHXP3ZuTohmRf7J2OcYtTESjUMEU6rjr/kEW8Hg4RFf73Ik/zprQxH5NUR/LV2po/9mEe\n",
       "fzTiK1rQ+Oth0lZbdUDzHSQS9arICFSt4TVDkzEUb4zpeY5c72sD9jyzCk0AGwF89QAa3TJ9vBI2\n",
       "UVQ8tqsH61scG/o9JJ86bC/x+s0BQm+DdWL76A2aS6IeXIq2upIgpDq/0il0uFlaqkbWNyOYEcIQ\n",
       "AAACh0GfbUURLDv/ABEKVGjK56tXkrsvLWiAAEPIlpKz5fpEbrAqPJ06HKFiKoddmHEa1R2JxyfE\n",
       "9GO45JwiCTZSmSc2j8+uRE7ulHwRblMJCNQrs38qZ32eK0cwio9mG+6qrRy3SEhRjvh28WAXaV2l\n",
       "9sRW1/4VLTui7l4hbKTaEpaA+g7e+eArg7dcw964U4RLaua9fAPJyn4h+VSI4wffN1pw6zRGFMyK\n",
       "9+hPcdXXRsl0dtor0x7UoDbmD6Qa4FAZRpSIr3pzvozbvdAvhPQwEW6+Fqx7t/hnvBLtBy9s387q\n",
       "oaX5VMwaK78ve/mP0wgPi7YOTf7Ja9NeYgSxgsxk5mkH8X/RrWrCUaTzn6rkugooSHsfNSMJdP6R\n",
       "e7B/BFhp0eoHCYv1I0lKxjDKGf1avcwBSF0kvrS+IPqbtIPe0MZll1hvXVUxbZ+lQXTyf9gCDreR\n",
       "NmtBUud4dc5MsIiw+LKSYYammHZG1dRpGufhD351555xJcCo4H7elZw2vUZOZUq0EEeRR7xoSHM7\n",
       "D0EZIb6jeVKbXv3BJnKik3atMjVsKHs+T165k32FYem/U6/LkiaYQQHdLog8h590t9zDMVe8DQSB\n",
       "ASpDTF0eoetk+sRf7qRyq/e9U8K+tYf80zWY4CPnOmX/m3CBtSGdDJekfjVMa+MT+11N/tsLVY29\n",
       "PxGrd8EAcPIy6O1Btg3aQcgnzNvggnLVwqPhUkPwjZFbUh3bAotopAo8zfo8DIE2JgKOywhZwBJj\n",
       "7PqCNdqt8WA/VL/vBtDO6ysiDMye5VYZMMRwY2rN/Z0XIi2BEPHfhJLmQj+834v0Cvn5Onh1WBdt\n",
       "EkQf5g4NYkcCDK88QjXE8lpbh6bYSapfAAACDAGfjHRDfwAYPu5j5rkgA2q4X+bsMGSycD7rwql/\n",
       "WZbJXvLrlJqE8EGgQ/9ARIAZmXPTS+uyNvuGp82vnoc5me8HJvv+5yRxM9NYpZ08CIXWUi8poVOV\n",
       "1gFypqusqJPmcGXxQubiPkF1ivq+yOf0QFOznwF9cvYT/XNoxy+smzlqS/xa0IjRySEqJCG1O193\n",
       "cazOG+fcHfGyFJAd4OMC2VpYMR6R30ywQA6ZYMF0yOJaw6VKTSHofcgfda99+hw942oFSj/JjChN\n",
       "HWY/efb+BO4TIv+KXRFzrACpFbmquDBIPDltiTBRCk7QSqF5p9lY9teeu3iV41CkHSk19bJziPD7\n",
       "ULATGuvd0ra25D5lHbMrwFSL1AxyiTCzMCnQfMwIEq4I1YGY94jV1XsJbb9jdlamYHV874XhL8QG\n",
       "iW/n7V9jcfm0Pr3ZQXk7FOzt+StjeZwedXh0NxKQF3EPg58PmyUyEg4zbkKDcHYwmCJN4eQMoB0f\n",
       "0wYxXmnxL3rvtkMe2O8qoG0WHX1F9Ov6mhJ618aVZ8dAJrXWuFAh6vGIp0qduWwF47hDwdosrTHM\n",
       "3aqoSmAfHA8z1Zavge7Gi4VOBwlpUBtcNZuUinLaXDP6QhLFN6kYUbzW79ZHLlgLzz5huOtDxepu\n",
       "DsfahiQh0A246tWMZk2+jNiZiMCUNss3dTvqPBT4jyKBDMGnICThAAABYgGfjmpDfwAYPu5mgQQA\n",
       "bT0t1YowC9cU7OSU2x+x+AbczKqqFvDnIhmEeOJgbV7fVeNK5SA0HYYeb+l0aDIYoU7KRz6+7R9I\n",
       "XL5dTyMOiP9IxfYqag11ue3/KU5GElH63TtYYyikVi6x75p5RwCW0xuBKehvliF+gWXVMN/O2m8q\n",
       "2Fh8TFcBHZMjNdMyLBMjf62Taso539IZbQSgOsm7gvfUfIoWM4TCWwEh4wy/4ontWqojsbS4iNQE\n",
       "FfFTrBe0RJaC3FX8+swolpApUO9KFNzV9bWYmpZsm6JaoAY7JGkscer6iSBRu3qskGFPJrd7FsAh\n",
       "zjTa24w0fyF4s31+OX36+LZaLq6d1lw8rIqSOv+tU13J/EdG80lFi89f44ktPXtBwZ9Xq1S1r3ow\n",
       "hfmB4VxHMKxcqLKRs4uwhUDWpfjR+IPjcapVOE85oFVdiPuFr4QXPIYRT3rmakjiNnLBatwDdwAA\n",
       "BBtBm5NJqEFsmUwIIf/+qlUABVFBwYAIxPM7CnJZ/KUyDWtwY+8FNaqwFzBKEUnWw4MfzfAvgk/y\n",
       "vjz9K6f/VhJIdr3mg2jtX705wUGfPUYo4w8M+4QrESd0UUeX9csuRj3EDG03E/U/V4+wJHb5jli8\n",
       "gqbtdTCO68YYCfEyOiH16lPc+luHL2wVMW7+ZvC1bn6j1Fnz7eATXP9WT8pA8pjwphxQ7JL3z6ZP\n",
       "z3xmVCJ7oBQZKdKermqUFWtN7qWusMNtvMyhUhaa2u/VOwNZuJhVbNP6mlsUOiOALXWyYuIKPOjT\n",
       "7BepXpTQTVkE2J7V+2dsE6kYF9poU0CkQ2k0O/UFUxitAJbnFC8WBABiV7XHANACFLkcHOKok1rx\n",
       "qn+YNWwKkWDI3BLhl9rWb9PXmyKl31rpC3xgHdZ5FzBuHfpwjaGZj2nkcYAT5iQoPckriOmaSy1A\n",
       "iKgaaOHOunLO4mZeM0cblUS6xZ1aykApHg6ETkv2eWx1PpQW6vVwXH4Od+LBwMnLa8PKFczteaNx\n",
       "t4ntCAMFM1iAZ9Z31r5cY3UpeILybDtnzyHfC+u7H0kR89TToihaCI/YslZR3jcHIMHD284tLcgD\n",
       "RtIe7txVGKNuHwFEXTaC5KC0onzHFf7K20w0/XiQ09napG6KTP/BYunE4DSL+zKIRVh4ouPmmOyK\n",
       "hMBvyoxkLQX5Yodzblj094tEay0DQRA0VBlzunG+Rj/yzQWQnxuiQJydrRfsDai5tsWQnE0KsnsT\n",
       "JNU2YlpMYRx9Avycc/6m1L63nERfkn0fQxiMcdn7oM9xlBtjhP+YVwc+0QyN7r/sWTXho/9Q4SnL\n",
       "8kHpB9qkViOjnQpBI+YXfh/PtrEbyyMEH+SvmRlqHIH1K98l223MTiR9Ht2KC4m+CS1oiLuDxPmw\n",
       "jTchQ2p3qtZiQsNqlf064cZC0JRVTyj9Q0aZlmPXIDcWDu16FVnO+i+mexTcNn85F1HeKf9yQBxR\n",
       "ln/BaCllToLKsTwFay5MV5viUHJym/HckYWGyEFjJC08Zb3NnP/j0ply59ZdnQ94cFv+mHd/Knpa\n",
       "o/eTApk7JMO1KPvhsN/mA4dyWhphIjsTlm04nbNGmcZ4ID+lhJbnoRTR4dMofEhIxquz9Ci+L8x9\n",
       "qOzLp4/0eO7MDAr+fBdIvUux+NHpeZN95DlkwycwRWe6O6zCPgxrXvjyHDvCY1fmL6AGlY0T+54i\n",
       "pPFFVZ/o3O8psJuzRoVudevNQILnUW+GdArVlrK0t3vUnOAqirHqW838bkS7VYZcplOHAWpl/ZoX\n",
       "bMOeSeZEAlblobGw4oMk/EYTdZivdK7sDvpilsRpuBDVUOu1nTlUh/p8byZoJ45mJyysEWaDvWZF\n",
       "Pe3mH9w9y8/tLiJjAUQJrYmdMLPlejJ3hHjwAAABfkGfsUUVLDv/ABDYAMnZtgBM4uBjqhgOFiHB\n",
       "mFhRQFnmRinZa+5NhGYuvUWoN3gG6mJl/JGN3xjxBNCeHt2VhQXEvNE57RDCXbCfEBhdJPkPycDX\n",
       "4k/BPwaGsGiPAVThkfi6+4zgBuS2qyQjnoFhoC04JTczlckWDo/6dy2olavQ6hYx5dGwiYXN7DR+\n",
       "BGmajRMwpIX7DmhXnW0NzFFG+CxNebd6VEDTHFrz/n1RV0+F5XEKIkpvUYviwceKPHWaF3E2tinU\n",
       "mHT+FcWzpqXPd5Bs8WPJ1Y99bfs9Nh9zMVdxHod2r/EqIfOwSGKaV2Dx3RiYNtj5Uux5fhyIeId8\n",
       "Cp8KXJ1Swr8Dl1EUmF+9axg0WfzWuXkhMifif3kk2tkGOJZgXE6uVTIT8fIDSyj4Q67IJLokE27R\n",
       "sA/ylApiPBlHpX7Ht2USyr3W5pEwkHbFkELJ0Vkf3uC1lbBg+uh9nxQ1Aa0yuikovTMt+aE6qZOW\n",
       "4Sq8IEFjmHxvAUcpTQ8AAAFIAZ/QdEN/AA5RQ6PIACIOm8sxlIVg7L73cIOKmAR3C2fB2sc02ggC\n",
       "7MDlpAbXPwfVraRcZwvaUQTaiPavEU2P1ofM1aEBLhAWBHrscJTT53gRMPq9GAVryiC3ZdcmQ9VG\n",
       "CO3dQxSIgBU7cBDB41H3X+c8bh9wlnfGsMp/bt+4Ha/zlHIzO3XM9oS1QqJLVZq3UcoGiaQ91kkC\n",
       "CkjR8foY264LMTddIySUQQwmcfX22J7cWjvl3JgR27NNply38/8BIeiOwWCfXolTydQuKVtjjJsC\n",
       "e1Fn+xGylQsPypSKJqofpD4xK9463asc4ysuCavhkOERNueCnTKCqG+kYSzLEV9V77812/SuGtce\n",
       "8956SjF0ZlDEaJkOuop0svw7xlhlkCM7MebH4ztER5anSD6Rwrl/eH+1Qw8h5a9NP3IRZUqp6ytn\n",
       "1wC4gQAAANMBn9JqQ38ADlFVj9TfTPhiuaBidZQ4EAEOa9asVGE+sceaXSnbASG+ZdxgWOlpdpNO\n",
       "fffwXK9LQDQ6K69YRcyYNR8eJvRf/Z4EwMx/rUdA48S/jU9HQv8Vo0jpVHyzxQSBMB396gSs/ANz\n",
       "iNInLhTXaxjn7XJJT0g6hQfvEJqqnsOUlDExCEimXg5TOAr8dVeWz2Jahrl0SWROnQLJOkTfiESE\n",
       "nsSG2DE0bBVX3cL0q4+qWj8TSStTkguPGJ2eHxwMNHly3Cv4Cgd3R84toYAqiAh4AAACNUGb1Emo\n",
       "QWyZTAgh//6qVQAFb8fAAHRR8lSk+ABh3G8b9yMu7/XkGhp5/hu7eufEmuWdko4GrgrLrw4d9GIa\n",
       "l+dhcz+b97lxPmxL91YgiUAUMRKIsOc9/vCa6a7pVltnDgdIUdrMj4zjWYx3+VlR2eegC+LrnTXy\n",
       "hcv7Le+EOyHrGXsFFCrqEg1nVHYbKBW5DGVTXbt5dayupmARuTRngVsYL7DTB7/rtuXamwh6V18z\n",
       "0Cniuwc8ON6Xa2akxYQqMvHLnDZ0D8bz+IgwFRjssgrHk/MW9LGeNf76yDnkvp8CagBXL0NzNKe4\n",
       "7MyW1S3Wej+47n7VLRQAydGUnzt5XHfkFaKm4MNl3I/jXDQEDhzUP9S3kQIw1gohTE0k0J6ElDHM\n",
       "VqKTUsfiogwqutSDtMM0wCsQ+zsTdA4VaeB42oQop5hUafWNcpQHH1kGJ4vSrXy7ho56lUb2Sp+F\n",
       "f39i4g+8a2sQciPAJNYIDEhkfLtTtfyVs50TI4KpCpEA/H/m6xRwN2RBHkeP/veM59Z2JFu1f68g\n",
       "5YgZOjgE/KV2CiZ0+kHRlh9p2qtTu/So5KSskNo34Z0TnttuuTWmDwaGjnNIr8cEwJyh8zQnFY8Q\n",
       "AG5PRcab//G4pUdz6bt2XTXi61WJ5D7RIYkyL9UmtASH2zNUOEaE58/2a69JCDpan9JmL0Opb38w\n",
       "ATQF9pqVTyv/Xf5UG0/Em00ArSCMYuznxc5Ik3UUxh4sYpqxt4GLGDx9+YAAZ8AAAAGpQZv1SeEK\n",
       "UmUwII///rUqgAK5pZRABTgQTnEm+CW1kCwQcGFMnv7QBBEPz1EtiXqvlWCaslFtP5tVFuAJZIGl\n",
       "JsPQZnO2XC/MHXdKXMzhgGm6xG50Fe8eBiDZZ94Bx2VI5W9uv/EZfzWOFg/QIIN9sRe68TfCq2hE\n",
       "vqyP/U/ePcZDIW/zu05u0GIdmdvFvgF8vwWiDDxEgCpTigCq+SiGvO4yNZ1WCx17Iq2ZEzT9A4y7\n",
       "Ffx/WE1IITmQIxau+NsZA8u4tlv0Z3SIOgz+TTe6+q7W8SKFNUz0T4qKq9RsBgdbl0a21mej1dhN\n",
       "T6/ZHUVxy78fjs0AY7LPuSL8w9vPw8TkPFe3ibYM2e7QiottjGC0V2q7tNiuGNe7Sjoue5WaGplM\n",
       "xzgxjD8NpsohiFhxMuM27VPKGqjEBkwa/liALspFqGBOtoQD+0I0JCxOxDHQENqrh4+MujDQF11V\n",
       "vRc/xSqDI5q9pMEB07q6+RWbj8LkIeEY4uz9J2jaaYF+vhqSwgtw+S3daEggKc8LewNr4RQdcjjC\n",
       "/p5o7YHcPYcyvQ48hjxWtclgQcEAAAImQZoZSeEOiZTAgj/+tSqAArmRTErAEZGFQSSb/8+p6eMj\n",
       "LYysMu7qoZ5Efe9tPYnXk5niJxNqbNZWQIINb2p2ahKWLBdKy6pufQjXtxYN/BAhGEKBoJyU7I8A\n",
       "XKU8xADveeQ+v13kZlQ9f3mSU89Ar4hTeAHvkHY4F0Qut5MsSLcgT+Fa6tTLU/k2ZV+2pzFiM9dR\n",
       "gXtr+TNhy5oDEsdZcJQX8tYfBhpdT8Ll3qEvezgqAM1FGyLl5RmWNGR40MGvbzNf3+3uSoJ17RFb\n",
       "W32KeLgeBuAWm2HFpKaLbTBJYAsIj2nfxgJ0LdFZf795p4CPsFUDiGrRpyjiDSaevelcu35rrtaP\n",
       "5IdUQzUxNpA5bxMrFoC7JkoNUdhtuttNT/v3n4Y3IiKltdyWLCTHh2Drjmy6ATUbZ4jmIPy2xskd\n",
       "P8pEC3X1RPAPyHveuZyaBuPP7Q1Flbz1t2VpNCRLDZoFQ0mzjWRNqU83AgbTRwV7nHKxlK+kZajq\n",
       "TiQczpc395dhIXR+VKmLSHNZBeiq+7tm9JUYKDo+lGLUc67Cb9r6XD0zrYStXzhKvRUJjh7Lb7fs\n",
       "LRyTfoFrEd+3SqAnRtrQf4ZW1YPlQ/BjnGl//qwcYuTccM3IWQesUJWMe0gjIIzwctZwaw144w10\n",
       "9EgxADVK3YOVvy20OBa8+DYpBRxBHiNETemPmpFEiGh8IIhgoTXr78KUd8NOkllV6HhuTcwYhHFn\n",
       "8AAtoAAAALJBnjdFETw7/wAQ2ADLQlkzn0cAAnEpgVwlfiPwSAXLgeNBLXaWv15mK3GpAPad/EQM\n",
       "7QY1W47Am6O0t1NgtKg4Hc9ANY1pMYh5Pv2U3mQr7H83GgWyNF9ZV9ypeoitsK+Sg9QpNDXE4PtF\n",
       "zRJqhbnO7olKr4XUtaFOJ2VOB2lGiUlanHsf4GhWN23Fcbp/8xHfaMUIff9B8ATTKVwtKolIZ8h8\n",
       "Y+qXVMSnJhqPCMmSUnpBAAAAbgGeVnRDfwAOh9yADWXj9dOEB9kWFelqsU7qI+bROfFVFd0bpp9a\n",
       "Ts9SAvZY2I7NcdqEKHk26pk3T/3qGMlmSAuyTParWZqBGV9NVp1Ck64VS2Q/pbBQC+ME3Dbx3YuI\n",
       "VzCn1DO3viA8gQmVgLKBAAAAMgGeWGpDfwAN0oLlclUk6QJPH6TMSdTp2EFGij9cF6UyYFDlFR2K\n",
       "PZeYXMB8QSlVAD5gAAABTkGaXUmoQWiZTAgj//61KoACzf4gJVaCtqiGiqdxyiFEz393yHr1PDFx\n",
       "ZZpVEwa9E9co3TCotLoi+5gcT8NxQysh0zModmvWuY3CV4IQ3upRK/dr+55317Yacj5ZqFUhOKJ7\n",
       "q+8j++mvhR+3Qg4cp9QvzKQQ+cPWiwr88kX5xenHMqXCxsPRojdv0gJBWfePCs/gE+rTCO9B04MQ\n",
       "FUEfuKGejbSB8G40jsQJFcWl+CsKDfn7iYjtS1fPX6Up43M5ENUKFOtF/l7BCh6wqsipUoUKe5Ph\n",
       "4zXaAixSE6HeVwGrq1tlwaKwQuTa1fqIV2V2vsApGkUVd7h5F2Edi8SzKrRauLWLtuB7vUcLM+vs\n",
       "atfSD2K8yOXiLX4yHF1v7eg4MWOUQRh1m+Us/PaFS9JcZqS/tCo9SokLE2ExK2AC3qYvklWy0+ws\n",
       "PBykgAAADpkAAABIQZ57RREsO/8AENgAzSIpMyFpakgVjgZLSv3mO1275XifosxbcgVx6pUlBPdX\n",
       "dvMyzN1tjwcRCV644Rr7pwHoBNVJBqkJ1TqgAAAALgGemnRDfwAYfrFWRp8Af/zIInn3Zuxd3OVa\n",
       "5C3RgF6CNkxoTBrdFy2cGpkANWEAAAApAZ6cakN/ABiC7GlrXfkp7ZHRHxo+wwC8bz4AQupuaGNd\n",
       "bHRfAt+2AqsAAADEQZqBSahBbJlMCCH//qpVAAVvx8AARij5KjjjHDbgYJXa4lE4bqpcfVTqYl3f\n",
       "zjm2IB1sJfUZQY5hEaUiQflS0tCNrNKagQconQQDjK+awX+8aI3jPhrIzIB7myw0gPG99+5ldgxy\n",
       "9Vip1sJOlHgVJXZsT1rzqOwS5Kw6Yz5r0ah4Ft/H97dDvGuHCuFnkjrvA38JKAo5hubrQv8u+VcE\n",
       "B3BU5GTuZRoWRz9HwaG1NEbWIn/8ICJKcjzZ0BWfHsb8AACFgAAAADdBnr9FFSw7/wARClRl5+Iw\n",
       "YWoy6eW3CsMSJkxg2vB0yg0hfgHKZ4P0mqd4VUYyx8RIdsK7N6FNAAAAKQGe3nRDfwAYfrBFB3Zf\n",
       "9HGYUQR+6hAaX/TQJcsDLeJOqv86WhynQCHhAAAAJwGewGpDfwAYguxpa135KexmD9UYQ+GtwaNM\n",
       "/kMCJHHSoiANVtAHpAAAABZBmsVJqEFsmUwIf//+qZYAAAMAABOxAAAAMUGe40UVLDv/ABEKVEyj\n",
       "CxMsEZHoNyLltyEz4EDZn7mgvHdT2nO4Vb05IYvuClur4koAAAAmAZ8CdEN/ABh+sEUHdl/0cZhR\n",
       "BNnTX42XQ93HJSNJAfU6gVTaATMAAAAnAZ8EakN/ABiC7GlrXfkp7GYP1RhD4a3Bo0z+QwIkcdKi\n",
       "IA1W0AelAAAAGUGbB0moQWyZTBRMN//+p4QAJqDHhMAAEnEAAAAxAZ8makN/ABiFNaFKR+zAVgw4\n",
       "kkjj2LPgUb2pR4tYOPA12BQpKVMv/ijBiPcLlEbLMwAABM9tb292AAAAbG12aGQAAAAAAAAAAAAA\n",
       "AAAAAAPoAAAPoAABAAABAAAAAAAAAAAAAAAAAQAAAAAAAAAAAAAAAAAAAAEAAAAAAAAAAAAAAAAA\n",
       "AEAAAAAAAAAAAAAAAAAAAAAAAAAAAAAAAAAAAAAAAAACAAAD+XRyYWsAAABcdGtoZAAAAAMAAAAA\n",
       "AAAAAAAAAAEAAAAAAAAPoAAAAAAAAAAAAAAAAAAAAAAAAQAAAAAAAAAAAAAAAAAAAAEAAAAAAAAA\n",
       "AAAAAAAAAEAAAAAB9AAAAZAAAAAAACRlZHRzAAAAHGVsc3QAAAAAAAAAAQAAD6AAAAgAAAEAAAAA\n",
       "A3FtZGlhAAAAIG1kaGQAAAAAAAAAAAAAAAAAACgAAACgAFXEAAAAAAAtaGRscgAAAAAAAAAAdmlk\n",
       "ZQAAAAAAAAAAAAAAAFZpZGVvSGFuZGxlcgAAAAMcbWluZgAAABR2bWhkAAAAAQAAAAAAAAAAAAAA\n",
       "JGRpbmYAAAAcZHJlZgAAAAAAAAABAAAADHVybCAAAAABAAAC3HN0YmwAAAC0c3RzZAAAAAAAAAAB\n",
       "AAAApGF2YzEAAAAAAAAAAQAAAAAAAAAAAAAAAAAAAAAB9AGQAEgAAABIAAAAAAAAAAEAAAAAAAAA\n",
       "AAAAAAAAAAAAAAAAAAAAAAAAAAAAAAAAAAAY//8AAAAyYXZjQwFkABb/4QAZZ2QAFqzZQIAz5+EA\n",
       "AAMAAQAAAwAUDxYtlgEABmjr48siwAAAABx1dWlka2hA8l8kT8W6OaUbzwMj8wAAAAAAAAAYc3R0\n",
       "cwAAAAAAAAABAAAAKAAABAAAAAAUc3RzcwAAAAAAAAABAAAAAQAAARBjdHRzAAAAAAAAACAAAAAI\n",
       "AAAIAAAAAAEAABQAAAAAAQAACAAAAAABAAAAAAAAAAEAAAQAAAAAAQAAFAAAAAABAAAIAAAAAAEA\n",
       "AAAAAAAAAQAABAAAAAABAAAUAAAAAAEAAAgAAAAAAQAAAAAAAAABAAAEAAAAAAIAAAgAAAAAAQAA\n",
       "FAAAAAABAAAIAAAAAAEAAAAAAAAAAQAABAAAAAABAAAUAAAAAAEAAAgAAAAAAQAAAAAAAAABAAAE\n",
       "AAAAAAEAABQAAAAAAQAACAAAAAABAAAAAAAAAAEAAAQAAAAAAQAAFAAAAAABAAAIAAAAAAEAAAAA\n",
       "AAAAAQAABAAAAAABAAAMAAAAAAEAAAQAAAAAHHN0c2MAAAAAAAAAAQAAAAEAAAAoAAAAAQAAALRz\n",
       "dHN6AAAAAAAAAAAAAAAoAAAVdwAAAlcAAANOAAAEFQAAAecAAAJZAAACgwAAAgkAAAVDAAABowAA\n",
       "ALkAAAEcAAAD4QAAAosAAAIQAAABZgAABB8AAAGCAAABTAAAANcAAAI5AAABrQAAAioAAAC2AAAA\n",
       "cgAAADYAAAFSAAAATAAAADIAAAAtAAAAyAAAADsAAAAtAAAAKwAAABoAAAA1AAAAKgAAACsAAAAd\n",
       "AAAANQAAABRzdGNvAAAAAAAAAAEAAAAsAAAAYnVkdGEAAABabWV0YQAAAAAAAAAhaGRscgAAAAAA\n",
       "AAAAbWRpcmFwcGwAAAAAAAAAAAAAAAAtaWxzdAAAACWpdG9vAAAAHWRhdGEAAAABAAAAAExhdmY1\n",
       "Ni40MC4xMDE=\n",
       "\">\n",
       "  Your browser does not support the video tag.\n",
       "</video>"
      ],
      "text/plain": [
       "<matplotlib.animation.FuncAnimation at 0x7f3efcdc12b0>"
      ]
     },
     "execution_count": 12,
     "metadata": {},
     "output_type": "execute_result"
    }
   ],
   "source": [
    "fig = plt.figure(dpi=100, figsize=(5, 4))\n",
    "plt.scatter(x,y)\n",
    "line, = plt.plot(x,lin(a_guess,b_guess,x))\n",
    "plt.close()\n",
    "\n",
    "def animate(i):\n",
    "    line.set_ydata(lin(a_guess,b_guess,x))\n",
    "    for i in range(10): upd()\n",
    "    return line,\n",
    "\n",
    "ani = animation.FuncAnimation(fig, animate, np.arange(0, 40), interval=100)\n",
    "ani"
   ]
  },
  {
   "cell_type": "code",
   "execution_count": null,
   "metadata": {
    "collapsed": true
   },
   "outputs": [],
   "source": []
  }
 ],
 "metadata": {
  "kernelspec": {
   "display_name": "p3",
   "language": "python",
   "name": "p3"
  },
  "language_info": {
   "codemirror_mode": {
    "name": "ipython",
    "version": 3
   },
   "file_extension": ".py",
   "mimetype": "text/x-python",
   "name": "python",
   "nbconvert_exporter": "python",
   "pygments_lexer": "ipython3",
   "version": "3.5.2"
  },
  "nav_menu": {},
  "toc": {
   "navigate_menu": true,
   "number_sections": true,
   "sideBar": true,
   "threshold": 6,
   "toc_cell": true,
   "toc_section_display": "block",
   "toc_window_display": false
  },
  "widgets": {
   "state": {},
   "version": "1.1.2"
  }
 },
 "nbformat": 4,
 "nbformat_minor": 1
}
