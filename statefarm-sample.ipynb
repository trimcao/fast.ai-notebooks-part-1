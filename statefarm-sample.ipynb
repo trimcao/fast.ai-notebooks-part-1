{
 "cells": [
  {
   "cell_type": "markdown",
   "metadata": {},
   "source": [
    "# Enter State Farm"
   ]
  },
  {
   "cell_type": "code",
   "execution_count": 1,
   "metadata": {},
   "outputs": [
    {
     "name": "stderr",
     "output_type": "stream",
     "text": [
      "Using cuDNN version 5105 on context None\n",
      "Mapped name None to device cuda0: GeForce GTX TITAN X (0000:04:00.0)\n",
      "Using Theano backend.\n"
     ]
    }
   ],
   "source": [
    "from __future__ import division, print_function\n",
    "%matplotlib inline\n",
    "# path = \"data/state/\"\n",
    "path = \"data/state/sample/\"\n",
    "from importlib import reload  # Python 3\n",
    "import utils; reload(utils)\n",
    "from utils import *\n",
    "from IPython.display import FileLink"
   ]
  },
  {
   "cell_type": "code",
   "execution_count": 2,
   "metadata": {
    "collapsed": true
   },
   "outputs": [],
   "source": [
    "batch_size=64\n",
    "#batch_size=1"
   ]
  },
  {
   "cell_type": "markdown",
   "metadata": {
    "heading_collapsed": true
   },
   "source": [
    "## Create sample"
   ]
  },
  {
   "cell_type": "markdown",
   "metadata": {
    "hidden": true
   },
   "source": [
    "The following assumes you've already created your validation set - remember that the training and validation set should contain *different drivers*, as mentioned on the Kaggle competition page."
   ]
  },
  {
   "cell_type": "code",
   "execution_count": null,
   "metadata": {
    "hidden": true
   },
   "outputs": [],
   "source": [
    "%cd data/state"
   ]
  },
  {
   "cell_type": "code",
   "execution_count": null,
   "metadata": {
    "hidden": true
   },
   "outputs": [],
   "source": [
    "%cd train"
   ]
  },
  {
   "cell_type": "code",
   "execution_count": null,
   "metadata": {
    "collapsed": true,
    "hidden": true
   },
   "outputs": [],
   "source": [
    "%mkdir ../sample\n",
    "%mkdir ../sample/train\n",
    "%mkdir ../sample/valid"
   ]
  },
  {
   "cell_type": "code",
   "execution_count": null,
   "metadata": {
    "collapsed": true,
    "hidden": true
   },
   "outputs": [],
   "source": [
    "for d in glob('c?'):\n",
    "    os.mkdir('../sample/train/'+d)\n",
    "    os.mkdir('../sample/valid/'+d)"
   ]
  },
  {
   "cell_type": "code",
   "execution_count": null,
   "metadata": {
    "collapsed": true,
    "hidden": true
   },
   "outputs": [],
   "source": [
    "from shutil import copyfile"
   ]
  },
  {
   "cell_type": "code",
   "execution_count": null,
   "metadata": {
    "collapsed": true,
    "hidden": true
   },
   "outputs": [],
   "source": [
    "g = glob('c?/*.jpg')\n",
    "shuf = np.random.permutation(g)\n",
    "for i in range(1500): copyfile(shuf[i], '../sample/train/' + shuf[i])"
   ]
  },
  {
   "cell_type": "code",
   "execution_count": null,
   "metadata": {
    "hidden": true
   },
   "outputs": [],
   "source": [
    "%cd ../valid"
   ]
  },
  {
   "cell_type": "code",
   "execution_count": null,
   "metadata": {},
   "outputs": [],
   "source": [
    "g = glob('c?/*.jpg')\n",
    "shuf = np.random.permutation(g)\n",
    "for i in range(1000): copyfile(shuf[i], '../sample/valid/' + shuf[i])"
   ]
  },
  {
   "cell_type": "code",
   "execution_count": null,
   "metadata": {
    "hidden": true
   },
   "outputs": [],
   "source": [
    "%cd ../../../.."
   ]
  },
  {
   "cell_type": "code",
   "execution_count": null,
   "metadata": {
    "hidden": true
   },
   "outputs": [],
   "source": [
    "%mkdir data/state/results"
   ]
  },
  {
   "cell_type": "code",
   "execution_count": null,
   "metadata": {
    "collapsed": true
   },
   "outputs": [],
   "source": [
    "%mkdir data/state/sample/test"
   ]
  },
  {
   "cell_type": "markdown",
   "metadata": {},
   "source": [
    "## Create batches"
   ]
  },
  {
   "cell_type": "code",
   "execution_count": 3,
   "metadata": {
    "scrolled": true
   },
   "outputs": [
    {
     "name": "stdout",
     "output_type": "stream",
     "text": [
      "Found 1500 images belonging to 10 classes.\n",
      "Found 1000 images belonging to 10 classes.\n"
     ]
    }
   ],
   "source": [
    "batches = get_batches(path+'train', batch_size=batch_size)\n",
    "val_batches = get_batches(path+'valid', batch_size=batch_size*2, shuffle=False)"
   ]
  },
  {
   "cell_type": "code",
   "execution_count": 4,
   "metadata": {},
   "outputs": [
    {
     "name": "stdout",
     "output_type": "stream",
     "text": [
      "Found 1500 images belonging to 10 classes.\n",
      "Found 1000 images belonging to 10 classes.\n",
      "Found 1000 images belonging to 1 classes.\n"
     ]
    }
   ],
   "source": [
    "(val_classes, trn_classes, val_labels, trn_labels, val_filenames, filenames,\n",
    "    test_filename) = get_classes(path)"
   ]
  },
  {
   "cell_type": "code",
   "execution_count": 5,
   "metadata": {
    "collapsed": true
   },
   "outputs": [],
   "source": [
    "steps_per_epoch = int(np.ceil(batches.samples/batch_size))\n",
    "validation_steps = int(np.ceil(val_batches.samples/(batch_size*2)))"
   ]
  },
  {
   "cell_type": "markdown",
   "metadata": {
    "heading_collapsed": true
   },
   "source": [
    "## Basic models"
   ]
  },
  {
   "cell_type": "markdown",
   "metadata": {
    "heading_collapsed": true,
    "hidden": true
   },
   "source": [
    "### Linear model"
   ]
  },
  {
   "cell_type": "markdown",
   "metadata": {
    "hidden": true
   },
   "source": [
    "First, we try the simplest model and use default parameters. Note the trick of making the first layer a batchnorm layer - that way we don't have to worry about normalizing the input ourselves."
   ]
  },
  {
   "cell_type": "code",
   "execution_count": 6,
   "metadata": {
    "collapsed": true,
    "hidden": true
   },
   "outputs": [],
   "source": [
    "model = Sequential([\n",
    "        BatchNormalization(axis=1, input_shape=(3,224,224)),\n",
    "        Flatten(),\n",
    "        Dense(10, activation='softmax')\n",
    "    ])"
   ]
  },
  {
   "cell_type": "markdown",
   "metadata": {
    "hidden": true
   },
   "source": [
    "As you can see below, this training is going nowhere..."
   ]
  },
  {
   "cell_type": "code",
   "execution_count": 7,
   "metadata": {
    "hidden": true
   },
   "outputs": [
    {
     "name": "stdout",
     "output_type": "stream",
     "text": [
      "Epoch 1/2\n",
      "24/24 [==============================] - 10s - loss: 13.4302 - acc: 0.1274 - val_loss: 13.7206 - val_acc: 0.1470\n",
      "Epoch 2/2\n",
      "24/24 [==============================] - 8s - loss: 13.4243 - acc: 0.1644 - val_loss: 14.0802 - val_acc: 0.1240\n"
     ]
    },
    {
     "data": {
      "text/plain": [
       "<keras.callbacks.History at 0x7f04ad6690b8>"
      ]
     },
     "execution_count": 7,
     "metadata": {},
     "output_type": "execute_result"
    }
   ],
   "source": [
    "model.compile(Adam(), loss='categorical_crossentropy', metrics=['accuracy'])\n",
    "model.fit_generator(batches, steps_per_epoch, epochs=2, validation_data=val_batches, \n",
    "                 validation_steps=validation_steps)"
   ]
  },
  {
   "cell_type": "markdown",
   "metadata": {
    "hidden": true
   },
   "source": [
    "Let's first check the number of parameters to see that there's enough parameters to find some useful relationships:"
   ]
  },
  {
   "cell_type": "code",
   "execution_count": 8,
   "metadata": {
    "hidden": true
   },
   "outputs": [
    {
     "name": "stdout",
     "output_type": "stream",
     "text": [
      "_________________________________________________________________\n",
      "Layer (type)                 Output Shape              Param #   \n",
      "=================================================================\n",
      "batch_normalization_1 (Batch (None, 3, 224, 224)       12        \n",
      "_________________________________________________________________\n",
      "flatten_1 (Flatten)          (None, 150528)            0         \n",
      "_________________________________________________________________\n",
      "dense_1 (Dense)              (None, 10)                1505290   \n",
      "=================================================================\n",
      "Total params: 1,505,302\n",
      "Trainable params: 1,505,296\n",
      "Non-trainable params: 6\n",
      "_________________________________________________________________\n"
     ]
    }
   ],
   "source": [
    "model.summary()"
   ]
  },
  {
   "cell_type": "markdown",
   "metadata": {
    "hidden": true
   },
   "source": [
    "Over 1.5 million parameters - that should be enough. Incidentally, it's worth checking you understand why this is the number of parameters in this layer:"
   ]
  },
  {
   "cell_type": "code",
   "execution_count": 9,
   "metadata": {
    "hidden": true
   },
   "outputs": [
    {
     "data": {
      "text/plain": [
       "1505280"
      ]
     },
     "execution_count": 9,
     "metadata": {},
     "output_type": "execute_result"
    }
   ],
   "source": [
    "10*3*224*224"
   ]
  },
  {
   "cell_type": "markdown",
   "metadata": {
    "hidden": true
   },
   "source": [
    "Since we have a simple model with no regularization and plenty of parameters, it seems most likely that our learning rate is too high. Perhaps it is jumping to a solution where it predicts one or two classes with high confidence, so that it can give a zero prediction to as many classes as possible - that's the best approach for a model that is no better than random, and there is likely to be where we would end up with a high learning rate. So let's check:"
   ]
  },
  {
   "cell_type": "code",
   "execution_count": 10,
   "metadata": {
    "hidden": true
   },
   "outputs": [
    {
     "data": {
      "text/plain": [
       "array([[ 0.,  0.,  0.,  0.,  0.,  1.,  0.,  0.,  0.,  0.],\n",
       "       [ 0.,  0.,  0.,  0.,  0.,  1.,  0.,  0.,  0.,  0.],\n",
       "       [ 0.,  0.,  1.,  0.,  0.,  0.,  0.,  0.,  0.,  0.],\n",
       "       [ 0.,  0.,  0.,  0.,  0.,  1.,  0.,  0.,  0.,  0.],\n",
       "       [ 0.,  0.,  0.,  0.,  0.,  1.,  0.,  0.,  0.,  0.],\n",
       "       [ 0.,  0.,  0.,  0.,  0.,  1.,  0.,  0.,  0.,  0.],\n",
       "       [ 0.,  0.,  1.,  0.,  0.,  0.,  0.,  0.,  0.,  0.],\n",
       "       [ 0.,  0.,  0.,  0.,  0.,  1.,  0.,  0.,  0.,  0.],\n",
       "       [ 0.,  0.,  0.,  0.,  0.,  1.,  0.,  0.,  0.,  0.],\n",
       "       [ 0.,  0.,  0.,  0.,  0.,  1.,  0.,  0.,  0.,  0.]], dtype=float32)"
      ]
     },
     "execution_count": 10,
     "metadata": {},
     "output_type": "execute_result"
    }
   ],
   "source": [
    "np.round(model.predict_generator(batches, int(np.ceil(batches.samples/batch_size)))[:10],2)"
   ]
  },
  {
   "cell_type": "markdown",
   "metadata": {
    "hidden": true
   },
   "source": [
    "Our hypothesis was correct. It's nearly always predicting class 1 or 6, with very high confidence. So let's try a lower learning rate:"
   ]
  },
  {
   "cell_type": "code",
   "execution_count": 11,
   "metadata": {
    "hidden": true
   },
   "outputs": [
    {
     "name": "stdout",
     "output_type": "stream",
     "text": [
      "Epoch 1/2\n",
      "24/24 [==============================] - 10s - loss: 2.2572 - acc: 0.2308 - val_loss: 3.3144 - val_acc: 0.2690\n",
      "Epoch 2/2\n",
      "24/24 [==============================] - 8s - loss: 1.7193 - acc: 0.4352 - val_loss: 2.3427 - val_acc: 0.3240\n"
     ]
    },
    {
     "data": {
      "text/plain": [
       "<keras.callbacks.History at 0x7f04a7516358>"
      ]
     },
     "execution_count": 11,
     "metadata": {},
     "output_type": "execute_result"
    }
   ],
   "source": [
    "model = Sequential([\n",
    "        BatchNormalization(axis=1, input_shape=(3,224,224)),\n",
    "        Flatten(),\n",
    "        Dense(10, activation='softmax')\n",
    "    ])\n",
    "model.compile(Adam(lr=1e-5), loss='categorical_crossentropy', metrics=['accuracy'])\n",
    "model.fit_generator(batches, steps_per_epoch, epochs=2, validation_data=val_batches, \n",
    "                 validation_steps=validation_steps)"
   ]
  },
  {
   "cell_type": "markdown",
   "metadata": {
    "hidden": true
   },
   "source": [
    "Great - we found our way out of that hole... Now we can increase the learning rate and see where we can get to."
   ]
  },
  {
   "cell_type": "code",
   "execution_count": 12,
   "metadata": {
    "collapsed": true,
    "hidden": true
   },
   "outputs": [],
   "source": [
    "model.optimizer.lr=0.001"
   ]
  },
  {
   "cell_type": "code",
   "execution_count": 13,
   "metadata": {
    "hidden": true
   },
   "outputs": [
    {
     "name": "stdout",
     "output_type": "stream",
     "text": [
      "Epoch 1/4\n",
      "24/24 [==============================] - 10s - loss: 1.3814 - acc: 0.5872 - val_loss: 1.6773 - val_acc: 0.4020\n",
      "Epoch 2/4\n",
      "24/24 [==============================] - 8s - loss: 1.1442 - acc: 0.7046 - val_loss: 1.4093 - val_acc: 0.5190\n",
      "Epoch 3/4\n",
      "24/24 [==============================] - 8s - loss: 0.9823 - acc: 0.7488 - val_loss: 1.1107 - val_acc: 0.6370\n",
      "Epoch 4/4\n",
      "24/24 [==============================] - 8s - loss: 0.8483 - acc: 0.8155 - val_loss: 1.0131 - val_acc: 0.6850\n"
     ]
    },
    {
     "data": {
      "text/plain": [
       "<keras.callbacks.History at 0x7f04ac07a588>"
      ]
     },
     "execution_count": 13,
     "metadata": {},
     "output_type": "execute_result"
    }
   ],
   "source": [
    "model.fit_generator(batches, steps_per_epoch, epochs=4, validation_data=val_batches, \n",
    "                 validation_steps=validation_steps)"
   ]
  },
  {
   "cell_type": "markdown",
   "metadata": {
    "hidden": true
   },
   "source": [
    "We're stabilizing at validation accuracy of 0.39. Not great, but a lot better than random. Before moving on, let's check that our validation set on the sample is large enough that it gives consistent results:"
   ]
  },
  {
   "cell_type": "code",
   "execution_count": 14,
   "metadata": {
    "hidden": true,
    "scrolled": true
   },
   "outputs": [
    {
     "name": "stdout",
     "output_type": "stream",
     "text": [
      "Found 1000 images belonging to 10 classes.\n"
     ]
    }
   ],
   "source": [
    "rnd_batches = get_batches(path+'valid', batch_size=batch_size*2, shuffle=True)"
   ]
  },
  {
   "cell_type": "code",
   "execution_count": 15,
   "metadata": {
    "hidden": true
   },
   "outputs": [
    {
     "data": {
      "text/plain": [
       "array([[ 1.01,  0.68],\n",
       "       [ 1.02,  0.68],\n",
       "       [ 1.01,  0.68],\n",
       "       [ 1.01,  0.69],\n",
       "       [ 0.97,  0.7 ],\n",
       "       [ 1.02,  0.69],\n",
       "       [ 1.01,  0.68],\n",
       "       [ 1.03,  0.68],\n",
       "       [ 1.01,  0.69],\n",
       "       [ 1.03,  0.68]])"
      ]
     },
     "execution_count": 15,
     "metadata": {},
     "output_type": "execute_result"
    }
   ],
   "source": [
    "val_res = [model.evaluate_generator(rnd_batches, int(np.ceil(rnd_batches.samples/(batch_size*2)))) for i in range(10)]\n",
    "np.round(val_res, 2)"
   ]
  },
  {
   "cell_type": "markdown",
   "metadata": {
    "hidden": true
   },
   "source": [
    "Yup, pretty consistent - if we see improvements of 3% or more, it's probably not random, based on the above samples."
   ]
  },
  {
   "cell_type": "markdown",
   "metadata": {
    "heading_collapsed": true,
    "hidden": true
   },
   "source": [
    "### L2 regularization"
   ]
  },
  {
   "cell_type": "markdown",
   "metadata": {
    "hidden": true
   },
   "source": [
    "The previous model is over-fitting a lot, but we can't use dropout since we only have one layer. We can try to decrease overfitting in our model by adding [l2 regularization](http://www.kdnuggets.com/2015/04/preventing-overfitting-neural-networks.html/2) (i.e. add the sum of squares of the weights to our loss function):"
   ]
  },
  {
   "cell_type": "code",
   "execution_count": 16,
   "metadata": {
    "hidden": true
   },
   "outputs": [
    {
     "name": "stdout",
     "output_type": "stream",
     "text": [
      "Epoch 1/2\n",
      "24/24 [==============================] - 10s - loss: 6.2899 - acc: 0.2615 - val_loss: 7.8386 - val_acc: 0.2900\n",
      "Epoch 2/2\n",
      "24/24 [==============================] - 8s - loss: 3.1825 - acc: 0.5653 - val_loss: 3.3825 - val_acc: 0.5130\n"
     ]
    },
    {
     "data": {
      "text/plain": [
       "<keras.callbacks.History at 0x7f04a68de0f0>"
      ]
     },
     "execution_count": 16,
     "metadata": {},
     "output_type": "execute_result"
    }
   ],
   "source": [
    "model = Sequential([\n",
    "        BatchNormalization(axis=1, input_shape=(3,224,224)),\n",
    "        Flatten(),\n",
    "        Dense(10, activation='softmax', kernel_regularizer=l2(0.01))\n",
    "    ])\n",
    "model.compile(Adam(lr=10e-5), loss='categorical_crossentropy', metrics=['accuracy'])\n",
    "model.fit_generator(batches, steps_per_epoch, epochs=2, validation_data=val_batches, \n",
    "                 validation_steps=validation_steps)"
   ]
  },
  {
   "cell_type": "code",
   "execution_count": 17,
   "metadata": {
    "collapsed": true,
    "hidden": true
   },
   "outputs": [],
   "source": [
    "model.optimizer.lr=0.001"
   ]
  },
  {
   "cell_type": "code",
   "execution_count": 18,
   "metadata": {
    "hidden": true
   },
   "outputs": [
    {
     "name": "stdout",
     "output_type": "stream",
     "text": [
      "Epoch 1/4\n",
      "24/24 [==============================] - 10s - loss: 2.1131 - acc: 0.7638 - val_loss: 2.5903 - val_acc: 0.6770\n",
      "Epoch 2/4\n",
      "24/24 [==============================] - 8s - loss: 1.4320 - acc: 0.8279 - val_loss: 1.8212 - val_acc: 0.7040\n",
      "Epoch 3/4\n",
      "24/24 [==============================] - 8s - loss: 0.9213 - acc: 0.8920 - val_loss: 1.2848 - val_acc: 0.7750\n",
      "Epoch 4/4\n",
      "24/24 [==============================] - 8s - loss: 0.6609 - acc: 0.9450 - val_loss: 1.0115 - val_acc: 0.8590\n"
     ]
    },
    {
     "data": {
      "text/plain": [
       "<keras.callbacks.History at 0x7f04ac07a898>"
      ]
     },
     "execution_count": 18,
     "metadata": {},
     "output_type": "execute_result"
    }
   ],
   "source": [
    "model.fit_generator(batches, steps_per_epoch, epochs=4, validation_data=val_batches, \n",
    "                 validation_steps=validation_steps)"
   ]
  },
  {
   "cell_type": "markdown",
   "metadata": {
    "hidden": true
   },
   "source": [
    "Looks like we can get a bit over 50% accuracy this way. This will be a good benchmark for our future models - if we can't beat 50%, then we're not even beating a linear model trained on a sample, so we'll know that's not a good approach."
   ]
  },
  {
   "cell_type": "markdown",
   "metadata": {
    "heading_collapsed": true,
    "hidden": true
   },
   "source": [
    "### Single hidden layer"
   ]
  },
  {
   "cell_type": "markdown",
   "metadata": {
    "hidden": true
   },
   "source": [
    "The next simplest model is to add a single hidden layer."
   ]
  },
  {
   "cell_type": "code",
   "execution_count": 19,
   "metadata": {
    "hidden": true
   },
   "outputs": [
    {
     "name": "stdout",
     "output_type": "stream",
     "text": [
      "Epoch 1/2\n",
      "24/24 [==============================] - 10s - loss: 2.0228 - acc: 0.3469 - val_loss: 6.0921 - val_acc: 0.2160\n",
      "Epoch 2/2\n",
      "24/24 [==============================] - 7s - loss: 1.1177 - acc: 0.6703 - val_loss: 2.7110 - val_acc: 0.3480\n",
      "Epoch 1/5\n",
      "24/24 [==============================] - 10s - loss: 0.6942 - acc: 0.8556 - val_loss: 1.0824 - val_acc: 0.6570\n",
      "Epoch 2/5\n",
      "24/24 [==============================] - 8s - loss: 0.4111 - acc: 0.9459 - val_loss: 0.8392 - val_acc: 0.7540\n",
      "Epoch 3/5\n",
      "24/24 [==============================] - 8s - loss: 0.3006 - acc: 0.9665 - val_loss: 0.6148 - val_acc: 0.8480\n",
      "Epoch 4/5\n",
      "24/24 [==============================] - 8s - loss: 0.1949 - acc: 0.9901 - val_loss: 0.5960 - val_acc: 0.8730\n",
      "Epoch 5/5\n",
      "24/24 [==============================] - 7s - loss: 0.1479 - acc: 0.9927 - val_loss: 0.5734 - val_acc: 0.8510\n"
     ]
    },
    {
     "data": {
      "text/plain": [
       "<keras.callbacks.History at 0x7f04a4cd6320>"
      ]
     },
     "execution_count": 19,
     "metadata": {},
     "output_type": "execute_result"
    }
   ],
   "source": [
    "model = Sequential([\n",
    "        BatchNormalization(axis=1, input_shape=(3,224,224)),\n",
    "        Flatten(),\n",
    "        Dense(100, activation='relu'),\n",
    "        BatchNormalization(),\n",
    "        Dense(10, activation='softmax')\n",
    "    ])\n",
    "model.compile(Adam(lr=1e-5), loss='categorical_crossentropy', metrics=['accuracy'])\n",
    "model.fit_generator(batches, steps_per_epoch, epochs=2, validation_data=val_batches, \n",
    "                 validation_steps=validation_steps)\n",
    "\n",
    "model.optimizer.lr = 0.01\n",
    "model.fit_generator(batches, steps_per_epoch, epochs=5, validation_data=val_batches, \n",
    "                 validation_steps=validation_steps)"
   ]
  },
  {
   "cell_type": "markdown",
   "metadata": {
    "hidden": true
   },
   "source": [
    "Not looking very encouraging... which isn't surprising since we know that CNNs are a much better choice for computer vision problems. So we'll try one."
   ]
  },
  {
   "cell_type": "markdown",
   "metadata": {
    "heading_collapsed": true,
    "hidden": true
   },
   "source": [
    "### Single conv layer"
   ]
  },
  {
   "cell_type": "markdown",
   "metadata": {
    "hidden": true
   },
   "source": [
    "2 conv layers with max pooling followed by a simple dense network is a good simple CNN to start with:"
   ]
  },
  {
   "cell_type": "code",
   "execution_count": 20,
   "metadata": {
    "collapsed": true,
    "hidden": true
   },
   "outputs": [],
   "source": [
    "def conv1(batches):\n",
    "    model = Sequential([\n",
    "            BatchNormalization(axis=1, input_shape=(3,224,224)),\n",
    "            Conv2D(32,(3,3), activation='relu'),\n",
    "            BatchNormalization(axis=1),\n",
    "            MaxPooling2D((3,3)),\n",
    "            Conv2D(64,(3,3), activation='relu'),\n",
    "            BatchNormalization(axis=1),\n",
    "            MaxPooling2D((3,3)),\n",
    "            Flatten(),\n",
    "            Dense(200, activation='relu'),\n",
    "            BatchNormalization(),\n",
    "            Dense(10, activation='softmax')\n",
    "        ])\n",
    "\n",
    "    model.compile(Adam(lr=1e-4), loss='categorical_crossentropy', metrics=['accuracy'])\n",
    "    model.fit_generator(batches, steps_per_epoch, epochs=2, validation_data=val_batches, \n",
    "                     validation_steps=validation_steps)\n",
    "    model.optimizer.lr = 0.001\n",
    "    model.fit_generator(batches, steps_per_epoch, epochs=4, validation_data=val_batches, \n",
    "                     validation_steps=validation_steps)\n",
    "    return model"
   ]
  },
  {
   "cell_type": "code",
   "execution_count": 21,
   "metadata": {
    "hidden": true
   },
   "outputs": [
    {
     "name": "stdout",
     "output_type": "stream",
     "text": [
      "Epoch 1/2\n",
      "24/24 [==============================] - 11s - loss: 1.6939 - acc: 0.4836 - val_loss: 2.0490 - val_acc: 0.2950\n",
      "Epoch 2/2\n",
      "24/24 [==============================] - 8s - loss: 0.4044 - acc: 0.9246 - val_loss: 1.7653 - val_acc: 0.3430\n",
      "Epoch 1/4\n",
      "24/24 [==============================] - 10s - loss: 0.1155 - acc: 0.9907 - val_loss: 1.6874 - val_acc: 0.4810\n",
      "Epoch 2/4\n",
      "24/24 [==============================] - 8s - loss: 0.0542 - acc: 0.9987 - val_loss: 1.6647 - val_acc: 0.4430\n",
      "Epoch 3/4\n",
      "24/24 [==============================] - 8s - loss: 0.0287 - acc: 1.0000 - val_loss: 1.6646 - val_acc: 0.3840\n",
      "Epoch 4/4\n",
      "24/24 [==============================] - 8s - loss: 0.0181 - acc: 1.0000 - val_loss: 1.6312 - val_acc: 0.3990\n"
     ]
    },
    {
     "data": {
      "text/plain": [
       "<keras.models.Sequential at 0x7f04a68de668>"
      ]
     },
     "execution_count": 21,
     "metadata": {},
     "output_type": "execute_result"
    }
   ],
   "source": [
    "conv1(batches)"
   ]
  },
  {
   "cell_type": "markdown",
   "metadata": {
    "hidden": true
   },
   "source": [
    "The training set here is very rapidly reaching a very high accuracy. So if we could regularize this, perhaps we could get a reasonable result.\n",
    "\n",
    "So, what kind of regularization should we try first? As we discussed in lesson 3, we should start with data augmentation."
   ]
  },
  {
   "cell_type": "markdown",
   "metadata": {
    "heading_collapsed": true
   },
   "source": [
    "## Data augmentation"
   ]
  },
  {
   "cell_type": "markdown",
   "metadata": {
    "hidden": true
   },
   "source": [
    "To find the best data augmentation parameters, we can try each type of data augmentation, one at a time. For each type, we can try four very different levels of augmentation, and see which is the best. In the steps below we've only kept the single best result we found. We're using the CNN we defined above, since we have already observed it can model the data quickly and accurately."
   ]
  },
  {
   "cell_type": "markdown",
   "metadata": {
    "hidden": true
   },
   "source": [
    "Width shift: move the image left and right -"
   ]
  },
  {
   "cell_type": "code",
   "execution_count": 22,
   "metadata": {
    "hidden": true
   },
   "outputs": [
    {
     "name": "stdout",
     "output_type": "stream",
     "text": [
      "Found 1500 images belonging to 10 classes.\n"
     ]
    }
   ],
   "source": [
    "gen_t = image.ImageDataGenerator(width_shift_range=0.1)\n",
    "batches = get_batches(path+'train', gen_t, batch_size=batch_size)"
   ]
  },
  {
   "cell_type": "code",
   "execution_count": 23,
   "metadata": {
    "hidden": true,
    "scrolled": true
   },
   "outputs": [
    {
     "name": "stdout",
     "output_type": "stream",
     "text": [
      "Epoch 1/2\n",
      "24/24 [==============================] - 18s - loss: 2.1641 - acc: 0.3462 - val_loss: 3.6318 - val_acc: 0.1350\n",
      "Epoch 2/2\n",
      "24/24 [==============================] - 13s - loss: 1.2426 - acc: 0.6026 - val_loss: 2.1089 - val_acc: 0.1990\n",
      "Epoch 1/4\n",
      "24/24 [==============================] - 18s - loss: 0.8824 - acc: 0.7240 - val_loss: 1.9272 - val_acc: 0.2850\n",
      "Epoch 2/4\n",
      "24/24 [==============================] - 13s - loss: 0.6863 - acc: 0.8165 - val_loss: 2.0318 - val_acc: 0.2830\n",
      "Epoch 3/4\n",
      "24/24 [==============================] - 13s - loss: 0.4905 - acc: 0.8665 - val_loss: 2.1731 - val_acc: 0.2640\n",
      "Epoch 4/4\n",
      "24/24 [==============================] - 13s - loss: 0.3563 - acc: 0.9155 - val_loss: 2.4367 - val_acc: 0.2240\n"
     ]
    }
   ],
   "source": [
    "model = conv1(batches)"
   ]
  },
  {
   "cell_type": "markdown",
   "metadata": {
    "hidden": true
   },
   "source": [
    "Height shift: move the image up and down -"
   ]
  },
  {
   "cell_type": "code",
   "execution_count": 24,
   "metadata": {
    "hidden": true
   },
   "outputs": [
    {
     "name": "stdout",
     "output_type": "stream",
     "text": [
      "Found 1500 images belonging to 10 classes.\n"
     ]
    }
   ],
   "source": [
    "gen_t = image.ImageDataGenerator(height_shift_range=0.05)\n",
    "batches = get_batches(path+'train', gen_t, batch_size=batch_size)"
   ]
  },
  {
   "cell_type": "code",
   "execution_count": 25,
   "metadata": {
    "hidden": true,
    "scrolled": true
   },
   "outputs": [
    {
     "name": "stdout",
     "output_type": "stream",
     "text": [
      "Epoch 1/2\n",
      "24/24 [==============================] - 18s - loss: 1.8739 - acc: 0.4134 - val_loss: 1.7773 - val_acc: 0.3910\n",
      "Epoch 2/2\n",
      "24/24 [==============================] - 13s - loss: 0.7271 - acc: 0.7914 - val_loss: 1.8788 - val_acc: 0.3680\n",
      "Epoch 1/4\n",
      "24/24 [==============================] - 18s - loss: 0.3920 - acc: 0.9034 - val_loss: 2.0485 - val_acc: 0.3590\n",
      "Epoch 2/4\n",
      "24/24 [==============================] - 13s - loss: 0.2723 - acc: 0.9324 - val_loss: 2.1801 - val_acc: 0.4220\n",
      "Epoch 3/4\n",
      "24/24 [==============================] - 13s - loss: 0.1691 - acc: 0.9621 - val_loss: 2.2416 - val_acc: 0.4360\n",
      "Epoch 4/4\n",
      "24/24 [==============================] - 13s - loss: 0.1161 - acc: 0.9805 - val_loss: 2.2153 - val_acc: 0.4580\n"
     ]
    }
   ],
   "source": [
    "model = conv1(batches)"
   ]
  },
  {
   "cell_type": "markdown",
   "metadata": {
    "hidden": true
   },
   "source": [
    "Random shear angles (max in radians) -"
   ]
  },
  {
   "cell_type": "code",
   "execution_count": 26,
   "metadata": {
    "hidden": true
   },
   "outputs": [
    {
     "name": "stdout",
     "output_type": "stream",
     "text": [
      "Found 1500 images belonging to 10 classes.\n"
     ]
    }
   ],
   "source": [
    "gen_t = image.ImageDataGenerator(shear_range=0.1)\n",
    "batches = get_batches(path+'train', gen_t, batch_size=batch_size)"
   ]
  },
  {
   "cell_type": "code",
   "execution_count": 27,
   "metadata": {
    "hidden": true,
    "scrolled": true
   },
   "outputs": [
    {
     "name": "stdout",
     "output_type": "stream",
     "text": [
      "Epoch 1/2\n",
      "24/24 [==============================] - 18s - loss: 1.6858 - acc: 0.4727 - val_loss: 2.1458 - val_acc: 0.2650\n",
      "Epoch 2/2\n",
      "24/24 [==============================] - 14s - loss: 0.4867 - acc: 0.8826 - val_loss: 1.9226 - val_acc: 0.2640\n",
      "Epoch 1/4\n",
      "24/24 [==============================] - 18s - loss: 0.1993 - acc: 0.9644 - val_loss: 1.9421 - val_acc: 0.2510\n",
      "Epoch 2/4\n",
      "24/24 [==============================] - 13s - loss: 0.1044 - acc: 0.9876 - val_loss: 1.8168 - val_acc: 0.3070\n",
      "Epoch 3/4\n",
      "24/24 [==============================] - 13s - loss: 0.0658 - acc: 0.9948 - val_loss: 1.7465 - val_acc: 0.3590\n",
      "Epoch 4/4\n",
      "24/24 [==============================] - 13s - loss: 0.0401 - acc: 0.9974 - val_loss: 1.6869 - val_acc: 0.4240\n"
     ]
    }
   ],
   "source": [
    "model = conv1(batches)"
   ]
  },
  {
   "cell_type": "markdown",
   "metadata": {
    "hidden": true
   },
   "source": [
    "Rotation: max in degrees -"
   ]
  },
  {
   "cell_type": "code",
   "execution_count": 28,
   "metadata": {
    "hidden": true
   },
   "outputs": [
    {
     "name": "stdout",
     "output_type": "stream",
     "text": [
      "Found 1500 images belonging to 10 classes.\n"
     ]
    }
   ],
   "source": [
    "gen_t = image.ImageDataGenerator(rotation_range=15)\n",
    "batches = get_batches(path+'train', gen_t, batch_size=batch_size)"
   ]
  },
  {
   "cell_type": "code",
   "execution_count": 29,
   "metadata": {
    "hidden": true,
    "scrolled": true
   },
   "outputs": [
    {
     "name": "stdout",
     "output_type": "stream",
     "text": [
      "Epoch 1/2\n",
      "24/24 [==============================] - 18s - loss: 2.0859 - acc: 0.3415 - val_loss: 2.3138 - val_acc: 0.2160\n",
      "Epoch 2/2\n",
      "24/24 [==============================] - 13s - loss: 0.9637 - acc: 0.7060 - val_loss: 1.8826 - val_acc: 0.3500\n",
      "Epoch 1/4\n",
      "24/24 [==============================] - 18s - loss: 0.5810 - acc: 0.8524 - val_loss: 2.0551 - val_acc: 0.3640\n",
      "Epoch 2/4\n",
      "24/24 [==============================] - 13s - loss: 0.4360 - acc: 0.8870 - val_loss: 2.4008 - val_acc: 0.2470\n",
      "Epoch 3/4\n",
      "24/24 [==============================] - 13s - loss: 0.3467 - acc: 0.9061 - val_loss: 2.7716 - val_acc: 0.1740\n",
      "Epoch 4/4\n",
      "24/24 [==============================] - 13s - loss: 0.2459 - acc: 0.9401 - val_loss: 3.2880 - val_acc: 0.1260\n"
     ]
    }
   ],
   "source": [
    "model = conv1(batches)"
   ]
  },
  {
   "cell_type": "markdown",
   "metadata": {
    "hidden": true
   },
   "source": [
    "Channel shift: randomly changing the R,G,B colors - "
   ]
  },
  {
   "cell_type": "code",
   "execution_count": 30,
   "metadata": {
    "hidden": true
   },
   "outputs": [
    {
     "name": "stdout",
     "output_type": "stream",
     "text": [
      "Found 1500 images belonging to 10 classes.\n"
     ]
    }
   ],
   "source": [
    "gen_t = image.ImageDataGenerator(channel_shift_range=20)\n",
    "batches = get_batches(path+'train', gen_t, batch_size=batch_size)"
   ]
  },
  {
   "cell_type": "code",
   "execution_count": 31,
   "metadata": {
    "hidden": true,
    "scrolled": true
   },
   "outputs": [
    {
     "name": "stdout",
     "output_type": "stream",
     "text": [
      "Epoch 1/2\n",
      "24/24 [==============================] - 11s - loss: 1.6874 - acc: 0.4942 - val_loss: 1.7698 - val_acc: 0.3940\n",
      "Epoch 2/2\n",
      "24/24 [==============================] - 8s - loss: 0.4305 - acc: 0.9164 - val_loss: 1.6881 - val_acc: 0.4630\n",
      "Epoch 1/4\n",
      "24/24 [==============================] - 11s - loss: 0.1200 - acc: 0.9901 - val_loss: 1.8431 - val_acc: 0.4110\n",
      "Epoch 2/4\n",
      "24/24 [==============================] - 8s - loss: 0.0602 - acc: 0.9961 - val_loss: 2.0336 - val_acc: 0.3320\n",
      "Epoch 3/4\n",
      "24/24 [==============================] - 8s - loss: 0.0324 - acc: 1.0000 - val_loss: 2.2320 - val_acc: 0.2700\n",
      "Epoch 4/4\n",
      "24/24 [==============================] - 8s - loss: 0.0186 - acc: 1.0000 - val_loss: 2.2715 - val_acc: 0.2910\n"
     ]
    }
   ],
   "source": [
    "model = conv1(batches)"
   ]
  },
  {
   "cell_type": "markdown",
   "metadata": {
    "hidden": true
   },
   "source": [
    "And finally, putting it all together!"
   ]
  },
  {
   "cell_type": "code",
   "execution_count": 32,
   "metadata": {
    "hidden": true
   },
   "outputs": [
    {
     "name": "stdout",
     "output_type": "stream",
     "text": [
      "Found 1500 images belonging to 10 classes.\n"
     ]
    }
   ],
   "source": [
    "gen_t = image.ImageDataGenerator(rotation_range=15, height_shift_range=0.05, \n",
    "                shear_range=0.1, channel_shift_range=20, width_shift_range=0.1)\n",
    "batches = get_batches(path+'train', gen_t, batch_size=batch_size)"
   ]
  },
  {
   "cell_type": "code",
   "execution_count": 33,
   "metadata": {
    "hidden": true,
    "scrolled": true
   },
   "outputs": [
    {
     "name": "stdout",
     "output_type": "stream",
     "text": [
      "Epoch 1/2\n",
      "24/24 [==============================] - 19s - loss: 2.5759 - acc: 0.2156 - val_loss: 2.4766 - val_acc: 0.1540\n",
      "Epoch 2/2\n",
      "24/24 [==============================] - 14s - loss: 1.8040 - acc: 0.4054 - val_loss: 2.1131 - val_acc: 0.2040\n",
      "Epoch 1/4\n",
      "24/24 [==============================] - 19s - loss: 1.5062 - acc: 0.4963 - val_loss: 2.1864 - val_acc: 0.1840\n",
      "Epoch 2/4\n",
      "24/24 [==============================] - 14s - loss: 1.3706 - acc: 0.5554 - val_loss: 2.3007 - val_acc: 0.1550\n",
      "Epoch 3/4\n",
      "24/24 [==============================] - 14s - loss: 1.2591 - acc: 0.5813 - val_loss: 2.4391 - val_acc: 0.1760\n",
      "Epoch 4/4\n",
      "24/24 [==============================] - 14s - loss: 1.1561 - acc: 0.6277 - val_loss: 2.3749 - val_acc: 0.2060\n"
     ]
    }
   ],
   "source": [
    "model = conv1(batches)"
   ]
  },
  {
   "cell_type": "markdown",
   "metadata": {
    "hidden": true
   },
   "source": [
    "At first glance, this isn't looking encouraging, since the validation set is poor and getting worse. But the training set is getting better, and still has a long way to go in accuracy - so we should try annealing our learning rate and running more epochs, before we make a decisions."
   ]
  },
  {
   "cell_type": "code",
   "execution_count": 34,
   "metadata": {
    "hidden": true,
    "scrolled": true
   },
   "outputs": [
    {
     "name": "stdout",
     "output_type": "stream",
     "text": [
      "Epoch 1/5\n",
      "24/24 [==============================] - 20s - loss: 1.0816 - acc: 0.6562 - val_loss: 2.4125 - val_acc: 0.2090\n",
      "Epoch 2/5\n",
      "24/24 [==============================] - 14s - loss: 1.0067 - acc: 0.6800 - val_loss: 2.4819 - val_acc: 0.2110\n",
      "Epoch 3/5\n",
      "24/24 [==============================] - 14s - loss: 0.9060 - acc: 0.7033 - val_loss: 2.3600 - val_acc: 0.2510\n",
      "Epoch 4/5\n",
      "24/24 [==============================] - 14s - loss: 0.8923 - acc: 0.7254 - val_loss: 2.2154 - val_acc: 0.2690\n",
      "Epoch 5/5\n",
      "24/24 [==============================] - 14s - loss: 0.8140 - acc: 0.7274 - val_loss: 2.1111 - val_acc: 0.2910\n"
     ]
    },
    {
     "data": {
      "text/plain": [
       "<keras.callbacks.History at 0x7f049751b240>"
      ]
     },
     "execution_count": 34,
     "metadata": {},
     "output_type": "execute_result"
    }
   ],
   "source": [
    "model.optimizer.lr = 0.0001\n",
    "model.fit_generator(batches, steps_per_epoch, epochs=5, validation_data=val_batches, \n",
    "                 validation_steps=validation_steps)"
   ]
  },
  {
   "cell_type": "markdown",
   "metadata": {
    "hidden": true
   },
   "source": [
    "Lucky we tried that - we starting to make progress! Let's keep going."
   ]
  },
  {
   "cell_type": "code",
   "execution_count": 35,
   "metadata": {
    "hidden": true,
    "scrolled": false
   },
   "outputs": [
    {
     "name": "stdout",
     "output_type": "stream",
     "text": [
      "Epoch 1/25\n",
      "24/24 [==============================] - 19s - loss: 0.7860 - acc: 0.7533 - val_loss: 1.8747 - val_acc: 0.3250\n",
      "Epoch 2/25\n",
      "24/24 [==============================] - 14s - loss: 0.7967 - acc: 0.7391 - val_loss: 1.6263 - val_acc: 0.4020\n",
      "Epoch 3/25\n",
      "24/24 [==============================] - 14s - loss: 0.7144 - acc: 0.7788 - val_loss: 1.3234 - val_acc: 0.4820\n",
      "Epoch 4/25\n",
      "24/24 [==============================] - 14s - loss: 0.6868 - acc: 0.7835 - val_loss: 1.1697 - val_acc: 0.5590\n",
      "Epoch 5/25\n",
      "24/24 [==============================] - 14s - loss: 0.6759 - acc: 0.7959 - val_loss: 0.9414 - val_acc: 0.6800\n",
      "Epoch 6/25\n",
      "24/24 [==============================] - 14s - loss: 0.6455 - acc: 0.8054 - val_loss: 0.8549 - val_acc: 0.7200\n",
      "Epoch 7/25\n",
      "24/24 [==============================] - 14s - loss: 0.6204 - acc: 0.8165 - val_loss: 0.8666 - val_acc: 0.6840\n",
      "Epoch 8/25\n",
      "24/24 [==============================] - 14s - loss: 0.5875 - acc: 0.8274 - val_loss: 0.6926 - val_acc: 0.7610\n",
      "Epoch 9/25\n",
      "24/24 [==============================] - 14s - loss: 0.5502 - acc: 0.8370 - val_loss: 0.5564 - val_acc: 0.8390\n",
      "Epoch 10/25\n",
      "24/24 [==============================] - 14s - loss: 0.5226 - acc: 0.8431 - val_loss: 0.5468 - val_acc: 0.8310\n",
      "Epoch 11/25\n",
      "24/24 [==============================] - 14s - loss: 0.5155 - acc: 0.8448 - val_loss: 0.4691 - val_acc: 0.8610\n",
      "Epoch 12/25\n",
      "24/24 [==============================] - 14s - loss: 0.4826 - acc: 0.8684 - val_loss: 0.5031 - val_acc: 0.8460\n",
      "Epoch 13/25\n",
      "24/24 [==============================] - 14s - loss: 0.5066 - acc: 0.8446 - val_loss: 0.4253 - val_acc: 0.8930\n",
      "Epoch 14/25\n",
      "24/24 [==============================] - 14s - loss: 0.4762 - acc: 0.8701 - val_loss: 0.3762 - val_acc: 0.8910\n",
      "Epoch 15/25\n",
      "24/24 [==============================] - 14s - loss: 0.5109 - acc: 0.8491 - val_loss: 0.3611 - val_acc: 0.9040\n",
      "Epoch 16/25\n",
      "24/24 [==============================] - 14s - loss: 0.4498 - acc: 0.8640 - val_loss: 0.3275 - val_acc: 0.9080\n",
      "Epoch 17/25\n",
      "24/24 [==============================] - 14s - loss: 0.4212 - acc: 0.8746 - val_loss: 0.2903 - val_acc: 0.9230\n",
      "Epoch 18/25\n",
      "24/24 [==============================] - 14s - loss: 0.4007 - acc: 0.8870 - val_loss: 0.3077 - val_acc: 0.9080\n",
      "Epoch 19/25\n",
      "24/24 [==============================] - 14s - loss: 0.3985 - acc: 0.8855 - val_loss: 0.2599 - val_acc: 0.9290\n",
      "Epoch 20/25\n",
      "24/24 [==============================] - 14s - loss: 0.3672 - acc: 0.8964 - val_loss: 0.2799 - val_acc: 0.9160\n",
      "Epoch 21/25\n",
      "24/24 [==============================] - 14s - loss: 0.3909 - acc: 0.8902 - val_loss: 0.2556 - val_acc: 0.9320\n",
      "Epoch 22/25\n",
      "24/24 [==============================] - 14s - loss: 0.3793 - acc: 0.8945 - val_loss: 0.2340 - val_acc: 0.9340\n",
      "Epoch 23/25\n",
      "24/24 [==============================] - 14s - loss: 0.3739 - acc: 0.9006 - val_loss: 0.2314 - val_acc: 0.9360\n",
      "Epoch 24/25\n",
      "24/24 [==============================] - 14s - loss: 0.3905 - acc: 0.8929 - val_loss: 0.2551 - val_acc: 0.9280\n",
      "Epoch 25/25\n",
      "24/24 [==============================] - 14s - loss: 0.3701 - acc: 0.8953 - val_loss: 0.2585 - val_acc: 0.9250\n"
     ]
    },
    {
     "data": {
      "text/plain": [
       "<keras.callbacks.History at 0x7f049751b0b8>"
      ]
     },
     "execution_count": 35,
     "metadata": {},
     "output_type": "execute_result"
    }
   ],
   "source": [
    "model.fit_generator(batches, steps_per_epoch, epochs=25, validation_data=val_batches, \n",
    "                 validation_steps=validation_steps)"
   ]
  },
  {
   "cell_type": "markdown",
   "metadata": {
    "collapsed": true,
    "hidden": true
   },
   "source": [
    "Amazingly, using nothing but a small sample, a simple (not pre-trained) model with no dropout, and data augmentation, we're getting results that would get us into the top 50% of the competition! This looks like a great foundation for our futher experiments.\n",
    "\n",
    "To go further, we'll need to use the whole dataset, since dropout and data volumes are very related, so we can't tweak dropout without using all the data."
   ]
  },
  {
   "cell_type": "code",
   "execution_count": null,
   "metadata": {
    "collapsed": true
   },
   "outputs": [],
   "source": []
  }
 ],
 "metadata": {
  "anaconda-cloud": {},
  "kernelspec": {
   "display_name": "p3",
   "language": "python",
   "name": "p3"
  },
  "language_info": {
   "codemirror_mode": {
    "name": "ipython",
    "version": 3
   },
   "file_extension": ".py",
   "mimetype": "text/x-python",
   "name": "python",
   "nbconvert_exporter": "python",
   "pygments_lexer": "ipython3",
   "version": "3.5.2"
  },
  "nav_menu": {},
  "nbpresent": {
   "slides": {
    "28b43202-5690-4169-9aca-6b9dabfeb3ec": {
     "id": "28b43202-5690-4169-9aca-6b9dabfeb3ec",
     "prev": null,
     "regions": {
      "3bba644a-cf4d-4a49-9fbd-e2554428cf9f": {
       "attrs": {
        "height": 0.8,
        "width": 0.8,
        "x": 0.1,
        "y": 0.1
       },
       "content": {
        "cell": "f3d3a388-7e2a-4151-9b50-c20498fceacc",
        "part": "whole"
       },
       "id": "3bba644a-cf4d-4a49-9fbd-e2554428cf9f"
      }
     }
    },
    "8104def2-4b68-44a0-8f1b-b03bf3b2a079": {
     "id": "8104def2-4b68-44a0-8f1b-b03bf3b2a079",
     "prev": "28b43202-5690-4169-9aca-6b9dabfeb3ec",
     "regions": {
      "7dded777-1ddf-4100-99ae-25cf1c15b575": {
       "attrs": {
        "height": 0.8,
        "width": 0.8,
        "x": 0.1,
        "y": 0.1
       },
       "content": {
        "cell": "fe47bd48-3414-4657-92e7-8b8d6cb0df00",
        "part": "whole"
       },
       "id": "7dded777-1ddf-4100-99ae-25cf1c15b575"
      }
     }
    }
   },
   "themes": {}
  },
  "toc": {
   "nav_menu": {
    "height": "148px",
    "width": "254px"
   },
   "navigate_menu": true,
   "number_sections": true,
   "sideBar": true,
   "threshold": 6,
   "toc_cell": false,
   "toc_section_display": "block",
   "toc_window_display": false
  },
  "widgets": {
   "state": {},
   "version": "1.1.2"
  }
 },
 "nbformat": 4,
 "nbformat_minor": 1
}
